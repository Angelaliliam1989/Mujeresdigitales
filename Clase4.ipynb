{
  "nbformat": 4,
  "nbformat_minor": 0,
  "metadata": {
    "colab": {
      "name": "Clase4.ipynb",
      "private_outputs": true,
      "provenance": [],
      "authorship_tag": "ABX9TyNsm9PvNlKxFYY80FoZhUah",
      "include_colab_link": true
    },
    "kernelspec": {
      "name": "python3",
      "display_name": "Python 3"
    },
    "language_info": {
      "name": "python"
    }
  },
  "cells": [
    {
      "cell_type": "markdown",
      "metadata": {
        "id": "view-in-github",
        "colab_type": "text"
      },
      "source": [
        "<a href=\"https://colab.research.google.com/github/Angelaliliam1989/Mujeresdigitales/blob/main/Clase4.ipynb\" target=\"_parent\"><img src=\"https://colab.research.google.com/assets/colab-badge.svg\" alt=\"Open In Colab\"/></a>"
      ]
    },
    {
      "cell_type": "markdown",
      "metadata": {
        "id": "ZLCsovUUjdwQ"
      },
      "source": [
        "Continuacion de estruccturas de control iterativas\n",
        "\n",
        "ACUMULADORES\n",
        "\n",
        "Se le da este nombre a las variables que se encarrgan de \"almacenar\" algun tipo de informacion. Ejemplo:\n",
        "\n",
        "El caso de la compra de viveres en la tienda"
      ]
    },
    {
      "cell_type": "code",
      "metadata": {
        "id": "O8xbYnXHjpyV"
      },
      "source": [
        "nombre=input(\"nombre del consumidor\")\n",
        "listacomp=\"\"\n",
        "print(nombre, \"escribe los siguientes viveres para su compra en el supermercado:\")\n",
        "listacomp=Listacomp+\",1 Paca de papel higienico\"\n",
        "print(\"----Copras que tengo que hacer----\")\n",
        "print(listacomp)\n",
        "listacomp=listacomp+\",Shampoo Pantene 2 en 1\"\n",
        "listacomp=listacomp+\",2 pacas de pañales pequeñin\"\n",
        "print(listacomp)"
      ],
      "execution_count": null,
      "outputs": []
    },
    {
      "cell_type": "markdown",
      "metadata": {
        "id": "zlGqwAl8lU8a"
      },
      "source": [
        "La variable \"listacomp\" nos esta sirviendo para acumular informacion de la lista de compras.\n",
        "Podemos observar, que No estamos creando una variable por cada item,sino una variable definida nos sirve para almacenar la informacion.\n",
        "\n",
        "A continuacion obsrrvemmos un ejemplo donde se ponga en practica el uso de acumulacion en una variable usando cantidades y precios."
      ]
    },
    {
      "cell_type": "code",
      "metadata": {
        "id": "6Umcv70wl_QO"
      },
      "source": [
        "ppph=14000 #precio papel higienico\n",
        "cpph=2 #cantidad de paquetes de papel higienico\n",
        "pshampoo=18000 #Precio de Shampoo Ppantene 2 en !\n",
        "CShampoo=4 #unidades por Shampoo\n",
        "ppbebe=17000 #precio de paca de pañales pequeñin\n",
        "cpbebe=3 #precio de la paca de pañales pequeñin\n",
        "\n",
        "subtotal=0\n",
        "print(\"calculando el total de la compra...\")\n",
        "total_pph=ppph*cpph\n",
        "print(\"el valor total de papel higienico es: $\", total_pph)\n",
        "subtotal=subtotal+total_pph\n",
        "print(\"----El lsubtotal es: $\", subtotal)\n",
        "total_shampoo=pshampoo*cshampoo\n",
        "print(\"el valor total de Shampoo es:\",total_shampoo)\n",
        "subtotal=subtotal+total_shampoo\n",
        "print(\"----El subtotal es:$:\",subtotal)\n",
        "total_ppbebe=ppbebe*copbebe\n",
        "print:(\"El valor total paa pañales es:$\",total_phbebe)\n",
        "subtotal=subtotal+total_ppbebe\n",
        "print(\"el total de su compra es:$\",subtotal)"
      ],
      "execution_count": null,
      "outputs": []
    },
    {
      "cell_type": "code",
      "metadata": {
        "id": "PyYSHBjalhor"
      },
      "source": [
        "o"
      ],
      "execution_count": null,
      "outputs": []
    }
  ]
}