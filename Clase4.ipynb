{
  "nbformat": 4,
  "nbformat_minor": 0,
  "metadata": {
    "colab": {
      "name": "Clase4.ipynb",
      "private_outputs": true,
      "provenance": [],
      "authorship_tag": "ABX9TyMsZ8bpEN7YckiFOj7LFasd",
      "include_colab_link": true
    },
    "kernelspec": {
      "name": "python3",
      "display_name": "Python 3"
    },
    "language_info": {
      "name": "python"
    }
  },
  "cells": [
    {
      "cell_type": "markdown",
      "metadata": {
        "id": "view-in-github",
        "colab_type": "text"
      },
      "source": [
        "<a href=\"https://colab.research.google.com/github/Angelaliliam1989/Mujeresdigitales/blob/main/Clase4.ipynb\" target=\"_parent\"><img src=\"https://colab.research.google.com/assets/colab-badge.svg\" alt=\"Open In Colab\"/></a>"
      ]
    },
    {
      "cell_type": "markdown",
      "metadata": {
        "id": "ZLCsovUUjdwQ"
      },
      "source": [
        "Continuacion de estruccturas de control iterativas\n",
        "\n",
        "ACUMULADORES\n",
        "\n",
        "Se le da este nombre a las variables que se encarrgan de \"almacenar\" algun tipo de informacion. Ejemplo:\n",
        "\n",
        "El caso de la compra de viveres en la tienda"
      ]
    },
    {
      "cell_type": "code",
      "metadata": {
        "id": "O8xbYnXHjpyV"
      },
      "source": [
        "nombre= input(\"nombre del consumidor\")\n",
        "listacomp=\"\"\n",
        "print(nombre, \"escribe los siguientes viveres para su compra en el supermercado:\")\n",
        "listacomp= Listacomp+\",1 Paca de papel higienico\"\n",
        "print(\"----Copras que tengo que hacer----\")\n",
        "print(listacomp)\n",
        "listacomp=listacomp+\",Shampoo Pantene 2 en 1\"\n",
        "listacomp=listacomp+\",2 pacas de pañales pequeñin\"\n",
        "print(listacomp)"
      ],
      "execution_count": null,
      "outputs": []
    },
    {
      "cell_type": "markdown",
      "metadata": {
        "id": "zlGqwAl8lU8a"
      },
      "source": [
        "La variable \"listacomp\" nos esta sirviendo para acumular informacion de la lista de compras.\n",
        "Podemos observar, que No estamos creando una variable por cada item,sino una variable definida nos sirve para almacenar la informacion.\n",
        "\n",
        "A continuacion obsrrvemmos un ejemplo donde se ponga en practica el uso de acumulacion en una variable usando cantidades y precios."
      ]
    },
    {
      "cell_type": "code",
      "metadata": {
        "id": "6Umcv70wl_QO"
      },
      "source": [
        "ppph=14000 #precio papel higienico\n",
        "cpph=2 #cantidad de paquetes de papel higienico\n",
        "pshampoo=18000 #Precio de Shampoo Ppantene 2 en !\n",
        "CShampoo=4 #unidades por Shampoo\n",
        "ppbebe=17000 #precio de paca de pañales pequeñin\n",
        "cpbebe=3 #precio de la paca de pañales pequeñin\n",
        "\n",
        "subtotal=0\n",
        "print(\"calculando el total de la compra...\")\n",
        "total_pph=ppph*cpph\n",
        "print(\"el valor total de papel higienico es: $\", total_pph)\n",
        "subtotal=subtotal+total_pph\n",
        "print(\"----El lsubtotal es: $\", subtotal)\n",
        "total_shampoo=pshampoo*cshampoo\n",
        "print(\"el valor total de Shampoo es:\",total_shampoo)\n",
        "subtotal=subtotal+total_shampoo\n",
        "print(\"----El subtotal es:$:\",subtotal)\n",
        "total_ppbebe=ppbebe*copbebe\n",
        "print:(\"El valor total paa pañales es:$\",total_phbebe)\n",
        "subtotal=subtotal+total_ppbebe\n",
        "print(\"el total de su compra es:$\",subtotal)"
      ],
      "execution_count": null,
      "outputs": []
    },
    {
      "cell_type": "markdown",
      "metadata": {
        "id": "j7WzygdBotjP"
      },
      "source": [
        "\n",
        "**CONTADORES**\n",
        "---\n",
        "Tiene mucha relacion con los \"acumuladores\" visto en el apartado anterior. Estas variables se caracterizan por ser vriables de control, es decir, controlan la **cantidad**de veces que se ejecuta detminada accion.\n",
        "\n",
        "Usando el ejemplo anterior y modificandolo un poco, podemos desarrollar el siguiente algoritmo:\n",
        "\n"
      ]
    },
    {
      "cell_type": "code",
      "metadata": {
        "id": "DQsblnzBpSW0"
      },
      "source": [
        "# se comprará pañakes por unidad\n",
        "contp=0\n",
        "print(\"Se realizara la compra de pañales etapa 3... Se ha iniciado la compra de asignacion en el carrito. En total hay:\",contp, \"pañales\")\n",
        "contp=contp+1\n",
        "print(\"Se realizara la compra de pañales etapa 3... Se ha iniciado la compra de asignacion en el carrito. Ahora hay:\",contp, \"pañales\")\n",
        "contp=contp+1\n",
        "print(\"ahora hay:\", contp, \"pañal\")\n",
        "contp=contp+1\n",
        "print(\"ahora hay:\", contp, \"pañal\")\n",
        "contp=contp+1\n",
        "print(\"ahora hay:\", contp, \"pañal\")\n",
        "contp=contp+1"
      ],
      "execution_count": null,
      "outputs": []
    },
    {
      "cell_type": "markdown",
      "metadata": {
        "id": "gyJDQUeHq_TG"
      },
      "source": [
        "CICLOS CONTROLADOS POR CONDICIONES\n",
        "\"WHILE\"\n",
        "---\n",
        "Recodemos que las vaiables de cotrol nos permiten  maneja estados, pasar de un estado a otro es por ejemplo: una variable que no contiene elemetos o contenerlo o una variable un elemento a partivular(acumulador o contador)y cambiarlo por completo (Bandera)\n",
        "\n",
        "Estas variables de control son la base de los ciclos de control. Siendo mas claros, pasar de una adiccion manual a algo mas automatizado\n",
        "\n",
        "Empezamos con el ciclo  WHILE. En español es mientras. Este ciclo se compone de una **condicion** y su **Bloque de codigo**. Lo que nos quiere decir de While es que el bloque de codigo se ejecutara ¨**mientras** la condicion da como resultado True or False\n",
        "\n"
      ]
    },
    {
      "cell_type": "code",
      "metadata": {
        "id": "FV7uRj1dsNjg"
      },
      "source": [
        "lapiz=5\n",
        "contlapiz=0\n",
        "print(\"Se ha iniciado la compra. En total hay:\", contlapiz,lapiz)\n",
        "\n",
        "while (contlapiz <lapiz):\n",
        "  contlapiz=contlapiz+1\n",
        "  print(\"se ha realizado la compra de Lapices. Ahora hay\"+str(contlapiz)+\"lapiz\")\n",
        "  print(\"se ha realizado la compra de Lapices. Ahora hay\",contlapiz,\"lapiz\")\n",
        "\n",
        "\n",
        "\n",
        "a=str(contlapiz)\n",
        "print(type(contlapiz))\n",
        "print(a)\n"
      ],
      "execution_count": null,
      "outputs": []
    },
    {
      "cell_type": "markdown",
      "metadata": {
        "id": "gYTelo3wvAss"
      },
      "source": [
        "Tener en cuenta que dentro del ciclo de while seva afectndo las variables implicadas en la condicion que debe cumplir el ciclo. En el ejemlo anterior la variable contlapiz para que en algun momento la condicion sea verdadera y  termine el ciclo se tiene que cumplir la condicion (contlapiz<lapiz). De lo contraario, tendriamos un ciclo que nunca se detendria. Lo cual decantaria en un ciclo interminable"
      ]
    },
    {
      "cell_type": "markdown",
      "metadata": {
        "id": "cZN0myBBwAQf"
      },
      "source": [
        "**CICLO DE FOR**\n",
        "\n",
        "---\n",
        "Es un ciclo especializado y optimizado para los ciclos controlados por cantidad. Se compone de tres elementos:\n",
        "1.La varaiable de Iteracion\n",
        "2. El  elemento de iteracion\n",
        "3. Bloque de codigo  a  iterar\n",
        "\n",
        "**Ventajas de usar el FOR**\n",
        "En Python es muy importante y se considera una herramienta bastante flexible y poderosa, por permitit ingresar estructuras de datos complejas, cadena de caracteres, rangos, ntre otros. Los elementos de iteracion usados en esta estructura de datos son necesario que tengan la siguiente caracteristica:\n",
        "1. Una cantidada definida(Esto lo diferencia totlmente del While)\n",
        "\n",
        "El While parte de una condicion de verdad,pero el FOR parte de una cantidada definida.\n",
        "\n",
        "\n"
      ]
    },
    {
      "cell_type": "code",
      "metadata": {
        "id": "aeWLZoaVxZ4J"
      },
      "source": [
        "##Retomando el ejemplo de la compra de lapices\n",
        "print(\"se ha iniciado la compra. En total hay: 0 lapices.\")\n",
        "for i in range(1,6): #en los rango, la funcion range maneja un intervalo abierto a la derecha y cerrado  a la izquierda.\n",
        "  print(\"Se ha realizado la compra de lapices. Ahora hay\", i, \"lapices.\")"
      ],
      "execution_count": null,
      "outputs": []
    }
  ]
}