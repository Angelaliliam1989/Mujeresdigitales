{
  "nbformat": 4,
  "nbformat_minor": 0,
  "metadata": {
    "colab": {
      "name": "Clase2.ipynb",
      "provenance": [],
      "authorship_tag": "ABX9TyPkz9zdY+yrYKFBCGyRGDGY",
      "include_colab_link": true
    },
    "kernelspec": {
      "name": "python3",
      "display_name": "Python 3"
    },
    "language_info": {
      "name": "python"
    }
  },
  "cells": [
    {
      "cell_type": "markdown",
      "metadata": {
        "id": "view-in-github",
        "colab_type": "text"
      },
      "source": [
        "<a href=\"https://colab.research.google.com/github/Angelaliliam1989/Mujeresdigitales/blob/main/Clase2.ipynb\" target=\"_parent\"><img src=\"https://colab.research.google.com/assets/colab-badge.svg\" alt=\"Open In Colab\"/></a>"
      ]
    },
    {
      "cell_type": "markdown",
      "metadata": {
        "id": "K2eU_tQYu98u"
      },
      "source": [
        "**Operadores aritmeticos**\n",
        "\n",
        "---\n",
        "Los operadores permiten realizar diferentes procesos de calculo en cualquier lenguaje de programacion.\n",
        "\n",
        "Los operadores más básicos:\n",
        "1. Suma\n",
        "2. Resta\n",
        "3. Multiplicación\n",
        "4. División\n"
      ]
    },
    {
      "cell_type": "markdown",
      "metadata": {
        "id": "I_udrooUvsgx"
      },
      "source": [
        "**Suma y resta**\n",
        "\n",
        "---\n",
        "\n",
        "Simbolo suma (+) el cual se utilizara en medio de la declaración de las variables a operar.\n",
        "Simbolo resta(-)\n"
      ]
    },
    {
      "cell_type": "code",
      "metadata": {
        "colab": {
          "base_uri": "https://localhost:8080/"
        },
        "id": "5VsMdDmAv_ro",
        "outputId": "368a1e53-b752-419d-ba2f-95dd4b29fd48"
      },
      "source": [
        "print(10-300)\n",
        "a=20\n",
        "b=35\n",
        "print(a-b)"
      ],
      "execution_count": null,
      "outputs": [
        {
          "output_type": "stream",
          "text": [
            "-290\n",
            "-15\n"
          ],
          "name": "stdout"
        }
      ]
    },
    {
      "cell_type": "code",
      "metadata": {
        "colab": {
          "base_uri": "https://localhost:8080/"
        },
        "id": "vYUl6EltwrN9",
        "outputId": "7494a007-7972-4606-809f-480a9749ca17"
      },
      "source": [
        "numero_botellas=12\n",
        "print(numero_botellas+8)"
      ],
      "execution_count": null,
      "outputs": [
        {
          "output_type": "stream",
          "text": [
            "20\n"
          ],
          "name": "stdout"
        }
      ]
    },
    {
      "cell_type": "code",
      "metadata": {
        "colab": {
          "base_uri": "https://localhost:8080/"
        },
        "id": "7GxJpVlhw0aa",
        "outputId": "4008206c-a1c6-4bd0-9f50-c77177e4e176"
      },
      "source": [
        "numero_botellas=12\n",
        "numero_botellas=numero_botellas+8\n",
        "print(numero_botellas)"
      ],
      "execution_count": null,
      "outputs": [
        {
          "output_type": "stream",
          "text": [
            "20\n"
          ],
          "name": "stdout"
        }
      ]
    },
    {
      "cell_type": "markdown",
      "metadata": {
        "id": "_Wj-sHX7xSqH"
      },
      "source": [
        "**Sumas entre los diferentes tipos de variables**\n",
        "\n",
        "---\n",
        "Recordemos los tipos de variables vistos en la clase de ayer:\n",
        "1.Declaracion de variables numericas enteros\n",
        "2.Flotantes (incorpora y flexibiliza los decimales)\n",
        "3.Tipo cadena"
      ]
    },
    {
      "cell_type": "code",
      "metadata": {
        "colab": {
          "base_uri": "https://localhost:8080/"
        },
        "id": "APE97Foqx-2O",
        "outputId": "80b8bf21-caa7-415b-b8a7-262f6c9b399a"
      },
      "source": [
        "q1=100\n",
        "q2=24.5\n",
        "print(type(q1+q2))\n"
      ],
      "execution_count": null,
      "outputs": [
        {
          "output_type": "stream",
          "text": [
            "<class 'float'>\n"
          ],
          "name": "stdout"
        }
      ]
    },
    {
      "cell_type": "code",
      "metadata": {
        "colab": {
          "base_uri": "https://localhost:8080/"
        },
        "id": "3FXtfJP1ySIZ",
        "outputId": "3680a463-f258-4110-97cf-73e093442842"
      },
      "source": [
        "v1=\"quiero\"\n",
        "v2=\"un celular\"\n",
        "v3=v1+\" \"+v2\n",
        "print(v1+\" \"+v2)"
      ],
      "execution_count": null,
      "outputs": [
        {
          "output_type": "stream",
          "text": [
            "quiero un celular\n"
          ],
          "name": "stdout"
        }
      ]
    },
    {
      "cell_type": "code",
      "metadata": {
        "colab": {
          "base_uri": "https://localhost:8080/"
        },
        "id": "6_4li6YDyuou",
        "outputId": "8911b931-2143-4dce-f5cb-c58a04d270ef"
      },
      "source": [
        "xq2=235\n",
        "xq3=400\n",
        "print(xq2-xq3)\n",
        "\n",
        "xq2=24.66\n",
        "xq3=4\n",
        "print(type(xq2-xq3))\n"
      ],
      "execution_count": null,
      "outputs": [
        {
          "output_type": "stream",
          "text": [
            "-165\n",
            "<class 'float'>\n"
          ],
          "name": "stdout"
        }
      ]
    },
    {
      "cell_type": "markdown",
      "metadata": {
        "id": "2jgb5Yt5zab-"
      },
      "source": [
        "**Importante**\n",
        "La resta no funciona para variables tipo cadena.(Ejemplo de error)\n"
      ]
    },
    {
      "cell_type": "code",
      "metadata": {
        "colab": {
          "base_uri": "https://localhost:8080/",
          "height": 197
        },
        "id": "MyF7P7-1zoy5",
        "outputId": "31eb79b5-097a-46ae-83e7-366b110b7d15"
      },
      "source": [
        "v1=\"5\"\n",
        "v2=\"2.3\"\n",
        "\n",
        "print(str(v1-v2))"
      ],
      "execution_count": null,
      "outputs": [
        {
          "output_type": "error",
          "ename": "TypeError",
          "evalue": "ignored",
          "traceback": [
            "\u001b[0;31m---------------------------------------------------------------------------\u001b[0m",
            "\u001b[0;31mTypeError\u001b[0m                                 Traceback (most recent call last)",
            "\u001b[0;32m<ipython-input-1-ff3b625be7a1>\u001b[0m in \u001b[0;36m<module>\u001b[0;34m()\u001b[0m\n\u001b[1;32m      2\u001b[0m \u001b[0mv2\u001b[0m\u001b[0;34m=\u001b[0m\u001b[0;34m\"2.3\"\u001b[0m\u001b[0;34m\u001b[0m\u001b[0;34m\u001b[0m\u001b[0m\n\u001b[1;32m      3\u001b[0m \u001b[0;34m\u001b[0m\u001b[0m\n\u001b[0;32m----> 4\u001b[0;31m \u001b[0mprint\u001b[0m\u001b[0;34m(\u001b[0m\u001b[0mstr\u001b[0m\u001b[0;34m(\u001b[0m\u001b[0mv1\u001b[0m\u001b[0;34m-\u001b[0m\u001b[0mv2\u001b[0m\u001b[0;34m)\u001b[0m\u001b[0;34m)\u001b[0m\u001b[0;34m\u001b[0m\u001b[0;34m\u001b[0m\u001b[0m\n\u001b[0m",
            "\u001b[0;31mTypeError\u001b[0m: unsupported operand type(s) for -: 'str' and 'str'"
          ]
        }
      ]
    },
    {
      "cell_type": "markdown",
      "metadata": {
        "id": "VuJhB2h20mWF"
      },
      "source": [
        "**Multiplicacion**\n",
        "\n",
        "---\n",
        "\n",
        "Definamos la multiplicacion como la suma de varias veces un numero, cantidad de veces indicadas por el otro numero. Ejemplo:4x2=4+4=8\n",
        "\n",
        "El simbolo que se manejaria es un (*)\n"
      ]
    },
    {
      "cell_type": "code",
      "metadata": {
        "colab": {
          "base_uri": "https://localhost:8080/"
        },
        "id": "tbc9Rv4707Hc",
        "outputId": "0bb8ae87-88f0-4254-cbcf-15cfa75c5e62"
      },
      "source": [
        "cali=5\n",
        "palmira=6\n",
        "print(cali*palmira)"
      ],
      "execution_count": null,
      "outputs": [
        {
          "output_type": "stream",
          "text": [
            "30\n"
          ],
          "name": "stdout"
        }
      ]
    },
    {
      "cell_type": "markdown",
      "metadata": {
        "id": "T3q49v2F1MZU"
      },
      "source": [
        "**Importante**\n",
        "\n",
        "---\n",
        "Se aplica la ley conmutativa.\n",
        "Recordemos que la ley conmutativa el orden de los factores no altera el resultado (aplica para suma y multiplicacion)\n",
        "\n"
      ]
    },
    {
      "cell_type": "code",
      "metadata": {
        "colab": {
          "base_uri": "https://localhost:8080/"
        },
        "id": "vQuj3DZi1LdE",
        "outputId": "d106edc2-1fc0-45bb-9505-236c8ea37064"
      },
      "source": [
        "cali=5\n",
        "palmira=6\n",
        "print(palmira*cali)"
      ],
      "execution_count": null,
      "outputs": [
        {
          "output_type": "stream",
          "text": [
            "30\n"
          ],
          "name": "stdout"
        }
      ]
    },
    {
      "cell_type": "markdown",
      "metadata": {
        "id": "o04Cg9wm1otC"
      },
      "source": [
        "**Division**\n",
        "\n",
        "---\n",
        "ACLARACION: **NO** aplica la ley conmutativa. El simbolo de division(/)\n",
        "\n"
      ]
    },
    {
      "cell_type": "code",
      "metadata": {
        "colab": {
          "base_uri": "https://localhost:8080/"
        },
        "id": "ixkFyc7k14Mn",
        "outputId": "bad0b7b1-2443-43ab-e9c0-d900a92d0f23"
      },
      "source": [
        "a=20\n",
        "b=4\n",
        "print(a/b,b/a, a+b, a-b)"
      ],
      "execution_count": null,
      "outputs": [
        {
          "output_type": "stream",
          "text": [
            "5.0 0.2 24 16\n"
          ],
          "name": "stdout"
        }
      ]
    },
    {
      "cell_type": "markdown",
      "metadata": {
        "id": "KtBmvj6M2WyQ"
      },
      "source": [
        "Para el **print** podemos separar las operaciones por variable con (,). Lo cual, no afecta la impresion de los resultados por operacion asignada"
      ]
    },
    {
      "cell_type": "markdown",
      "metadata": {
        "id": "mWZhx3fy2-cy"
      },
      "source": [
        "**Tipos de división**\n",
        "\n",
        "---\n",
        "1. División exacta (//)\n",
        "2. Division Inexacta (/)\n"
      ]
    },
    {
      "cell_type": "code",
      "metadata": {
        "colab": {
          "base_uri": "https://localhost:8080/",
          "height": 231
        },
        "id": "U34YJWWc3R1a",
        "outputId": "9fccebfd-4782-4b7a-8f51-5595f11b2ca5"
      },
      "source": [
        "print(15//4)\n",
        "print(15/4)\n",
        "print(2/0)"
      ],
      "execution_count": null,
      "outputs": [
        {
          "output_type": "stream",
          "text": [
            "3\n",
            "3.75\n"
          ],
          "name": "stdout"
        },
        {
          "output_type": "error",
          "ename": "ZeroDivisionError",
          "evalue": "ignored",
          "traceback": [
            "\u001b[0;31m---------------------------------------------------------------------------\u001b[0m",
            "\u001b[0;31mZeroDivisionError\u001b[0m                         Traceback (most recent call last)",
            "\u001b[0;32m<ipython-input-34-d5d1ec7e2e84>\u001b[0m in \u001b[0;36m<module>\u001b[0;34m()\u001b[0m\n\u001b[1;32m      1\u001b[0m \u001b[0mprint\u001b[0m\u001b[0;34m(\u001b[0m\u001b[0;36m15\u001b[0m\u001b[0;34m//\u001b[0m\u001b[0;36m4\u001b[0m\u001b[0;34m)\u001b[0m\u001b[0;34m\u001b[0m\u001b[0;34m\u001b[0m\u001b[0m\n\u001b[1;32m      2\u001b[0m \u001b[0mprint\u001b[0m\u001b[0;34m(\u001b[0m\u001b[0;36m15\u001b[0m\u001b[0;34m/\u001b[0m\u001b[0;36m4\u001b[0m\u001b[0;34m)\u001b[0m\u001b[0;34m\u001b[0m\u001b[0;34m\u001b[0m\u001b[0m\n\u001b[0;32m----> 3\u001b[0;31m \u001b[0mprint\u001b[0m\u001b[0;34m(\u001b[0m\u001b[0;36m2\u001b[0m\u001b[0;34m/\u001b[0m\u001b[0;36m0\u001b[0m\u001b[0;34m)\u001b[0m\u001b[0;34m\u001b[0m\u001b[0;34m\u001b[0m\u001b[0m\n\u001b[0m",
            "\u001b[0;31mZeroDivisionError\u001b[0m: division by zero"
          ]
        }
      ]
    },
    {
      "cell_type": "markdown",
      "metadata": {
        "id": "4b0RRFa73zjF"
      },
      "source": [
        "Nota:  Operacion de división, al igual que una operación normal, **no** es posible dividir en cero. ¿Por qué? porque en matemáticas es un resultado indefinivo."
      ]
    },
    {
      "cell_type": "markdown",
      "metadata": {
        "id": "KfDBGH9T4NFN"
      },
      "source": [
        "4. Potenciación\n",
        "5. Módulo"
      ]
    },
    {
      "cell_type": "markdown",
      "metadata": {
        "id": "2Qlqlex84X6c"
      },
      "source": [
        "**Potenciación**\n",
        "\n",
        "---\n",
        "En python el simbolo (**). \n",
        "El primer valor es la base y el  ultimo valor el exponente.\n"
      ]
    },
    {
      "cell_type": "code",
      "metadata": {
        "colab": {
          "base_uri": "https://localhost:8080/"
        },
        "id": "vf009l9T4nH-",
        "outputId": "17e67c24-ae2f-4068-d1a4-fa08bf4bd994"
      },
      "source": [
        "print(2**4)"
      ],
      "execution_count": null,
      "outputs": [
        {
          "output_type": "stream",
          "text": [
            "16\n"
          ],
          "name": "stdout"
        }
      ]
    },
    {
      "cell_type": "markdown",
      "metadata": {
        "id": "4Rai7NVI44xo"
      },
      "source": [
        "**Módulo**\n",
        "\n",
        "---\n",
        "\n",
        "Le llamamos módulo al residuo de la operación de división.\n",
        "El simbolo usado para mostrar el residuo es (%)\n",
        "El primer valor es el dividendo y el ultimo valor es el divisor."
      ]
    },
    {
      "cell_type": "code",
      "metadata": {
        "colab": {
          "base_uri": "https://localhost:8080/"
        },
        "id": "bwUWDwRQ5HjD",
        "outputId": "e5a506f1-903f-4de1-ea44-33c59a42859b"
      },
      "source": [
        "print(88%9)"
      ],
      "execution_count": null,
      "outputs": [
        {
          "output_type": "stream",
          "text": [
            "7\n"
          ],
          "name": "stdout"
        }
      ]
    },
    {
      "cell_type": "markdown",
      "metadata": {
        "id": "9lSbzH0B5mSX"
      },
      "source": [
        "**OPERADORES DE COMPARACIÓN**\n",
        "\n",
        "---\n",
        "los operadores de comparación, sirven para comparar varios valores.\n",
        "En la vida cotidiana a la hora de tomar decisiones tenemos que decidir entre un camino u otro. Ejemplo: compras, decisiones de vida, caminos por recorrer.\n",
        "\n",
        "\n"
      ]
    },
    {
      "cell_type": "markdown",
      "metadata": {
        "id": "Zdd8M38c84d7"
      },
      "source": [
        "**Igualdad**\n",
        "\n",
        "---\n",
        "Simbolo en Python es (==)\n"
      ]
    },
    {
      "cell_type": "code",
      "metadata": {
        "colab": {
          "base_uri": "https://localhost:8080/"
        },
        "id": "VDotPbvzMHmu",
        "outputId": "3fdccec3-60fb-4891-9834-fc104d36313a"
      },
      "source": [
        "x=30\n",
        "z=31\n",
        "print(x==z)"
      ],
      "execution_count": null,
      "outputs": [
        {
          "output_type": "stream",
          "text": [
            "False\n"
          ],
          "name": "stdout"
        }
      ]
    },
    {
      "cell_type": "code",
      "metadata": {
        "colab": {
          "base_uri": "https://localhost:8080/"
        },
        "id": "B5O2_sKR9CTB",
        "outputId": "2f423928-3049-470d-f40c-964c585cf7ee"
      },
      "source": [
        "x=\"casa\"\n",
        "z=\"caza\"\n",
        "print(x==z)"
      ],
      "execution_count": null,
      "outputs": [
        {
          "output_type": "stream",
          "text": [
            "False\n"
          ],
          "name": "stdout"
        }
      ]
    },
    {
      "cell_type": "markdown",
      "metadata": {
        "id": "SwBDCHfM_MrJ"
      },
      "source": [
        "**Diferencia**\n",
        "\n",
        "---\n",
        "\n",
        "A diferencia del operador de igualdad, el simbolo esta combinado por el simbolo de admiración, es decir (!=)\n"
      ]
    },
    {
      "cell_type": "code",
      "metadata": {
        "colab": {
          "base_uri": "https://localhost:8080/"
        },
        "id": "l5WMITFa_iSe",
        "outputId": "2982f895-58a5-4780-f7a0-be8a29a159a4"
      },
      "source": [
        "x=\"casa\"\n",
        "z=\"caza\"\n",
        "print(x!=z)"
      ],
      "execution_count": null,
      "outputs": [
        {
          "output_type": "stream",
          "text": [
            "True\n"
          ],
          "name": "stdout"
        }
      ]
    },
    {
      "cell_type": "markdown",
      "metadata": {
        "id": "8uHf-qb__utu"
      },
      "source": [
        "**Mayor que**\n",
        "\n",
        "---\n",
        "Simbolo en Python (>)\n",
        "Siempre en comparativa se designa cual es el menor o el mayor, por el valor que esta a la izquierda de la operación."
      ]
    },
    {
      "cell_type": "code",
      "metadata": {
        "colab": {
          "base_uri": "https://localhost:8080/"
        },
        "id": "nj_j7q9r_4C_",
        "outputId": "8a47526a-2121-46cf-de96-b29891023cc2"
      },
      "source": [
        "print(30>29.8)\n",
        "print(20>10)"
      ],
      "execution_count": null,
      "outputs": [
        {
          "output_type": "stream",
          "text": [
            "True\n",
            "True\n"
          ],
          "name": "stdout"
        }
      ]
    },
    {
      "cell_type": "markdown",
      "metadata": {
        "id": "7Nt3avl8AcPX"
      },
      "source": [
        "**Menor que**\n",
        "\n",
        "---\n",
        "Caso contrario, el simbolo es (<)."
      ]
    },
    {
      "cell_type": "code",
      "metadata": {
        "colab": {
          "base_uri": "https://localhost:8080/"
        },
        "id": "F7cwfdEVAkUs",
        "outputId": "7b9f5f1c-c8ad-446a-ee42-b1b182afcd80"
      },
      "source": [
        "x=4\n",
        "y=3\n",
        "print(x<y)"
      ],
      "execution_count": null,
      "outputs": [
        {
          "output_type": "stream",
          "text": [
            "False\n"
          ],
          "name": "stdout"
        }
      ]
    },
    {
      "cell_type": "markdown",
      "metadata": {
        "id": "4wip9YPdAwMK"
      },
      "source": [
        "**Mayor o igual que**\n",
        "\n",
        "---\n",
        "Es similar al mayor que, con la diferencia de que la forma en que dara el resultado verdadero es si ambos numeros son iguales, y flexibiliza dando verdadero de igual forma si el valor de la izquierda es mayor que el de la derecha. El simbolo es (>=)\n"
      ]
    },
    {
      "cell_type": "code",
      "metadata": {
        "colab": {
          "base_uri": "https://localhost:8080/"
        },
        "id": "aEaF-CHhBRAz",
        "outputId": "1d535e88-1665-49e9-fdbc-74fe167e9b47"
      },
      "source": [
        "x=10\n",
        "y=10\n",
        "print(x>=y)"
      ],
      "execution_count": null,
      "outputs": [
        {
          "output_type": "stream",
          "text": [
            "True\n"
          ],
          "name": "stdout"
        }
      ]
    },
    {
      "cell_type": "markdown",
      "metadata": {
        "id": "FSEZQezSBmIK"
      },
      "source": [
        "**Menor o igual que**\n",
        "\n",
        "---\n",
        "El simbolo es (<=).\n"
      ]
    },
    {
      "cell_type": "code",
      "metadata": {
        "colab": {
          "base_uri": "https://localhost:8080/"
        },
        "id": "J-1oVlUjBuZw",
        "outputId": "55bf77bd-0ae4-4aff-e139-3519093f707e"
      },
      "source": [
        "c=45\n",
        "print(c<=46)"
      ],
      "execution_count": null,
      "outputs": [
        {
          "output_type": "stream",
          "text": [
            "True\n"
          ],
          "name": "stdout"
        }
      ]
    },
    {
      "cell_type": "markdown",
      "metadata": {
        "id": "Md1Vmo2OB5LM"
      },
      "source": [
        "**Tener en cuenta**\n",
        "\n",
        "---\n",
        "En comparaciones los resultados que nos arrojan siempre es de tipo booleano es decir: True or False (verdadero o falso).\n"
      ]
    },
    {
      "cell_type": "markdown",
      "metadata": {
        "id": "gnUx3uNxCac0"
      },
      "source": [
        "**OPERADORES LÓGICOS**\n",
        "\n",
        "---\n",
        "Python incluye tres operadores lógicos base:\n",
        "1. AND (y)\n",
        "2. OR (o)\n",
        "3. NOT(No)\n",
        "\n",
        "Los operadores lógicos funcionan solo con valores o variables booleanas, a su vez, devuelven como respuesta valores booleanos."
      ]
    },
    {
      "cell_type": "markdown",
      "metadata": {
        "id": "-VwMBKl1DEKu"
      },
      "source": [
        "**Operador AND**\n",
        "\n",
        "---\n",
        "Este operador solo devolverá (verdadero) Si ambos lo son.\n",
        "¿Como usar el operador AND?\n",
        "Para usar este operador basta con escribir un valor booleano, luego, la palabra \"and\" y por ultimo otro valor booleano.\n",
        "\n",
        "**Ejemplo:**\n"
      ]
    },
    {
      "cell_type": "code",
      "metadata": {
        "colab": {
          "base_uri": "https://localhost:8080/"
        },
        "id": "ddO0ZxAkDqJT",
        "outputId": "c108e188-e6ca-4e73-8f9f-7461a169a259"
      },
      "source": [
        "print(True and False)"
      ],
      "execution_count": null,
      "outputs": [
        {
          "output_type": "stream",
          "text": [
            "False\n"
          ],
          "name": "stdout"
        }
      ]
    },
    {
      "cell_type": "markdown",
      "metadata": {
        "id": "FBLkCp-LDyh4"
      },
      "source": [
        "**Ejemplo 2 de contextualización**:\n",
        "\n",
        "---\n",
        "**1. True and True= True**\n",
        "2. True and False= False\n",
        "3. False and False= False\n",
        "4. False and True= False\n"
      ]
    },
    {
      "cell_type": "markdown",
      "metadata": {
        "id": "lGPbU7DhEO93"
      },
      "source": [
        "**Operador OR**\n",
        "\n",
        "---\n",
        "A diferencia del operador AND, OR devuelve a todo verdadero\n"
      ]
    },
    {
      "cell_type": "code",
      "metadata": {
        "colab": {
          "base_uri": "https://localhost:8080/"
        },
        "id": "RXTUM7ZeOefR",
        "outputId": "c481aa6a-d18a-411c-d082-de2ac48647f8"
      },
      "source": [
        "print(True or True)\n",
        "print(False or False)"
      ],
      "execution_count": null,
      "outputs": [
        {
          "output_type": "stream",
          "text": [
            "True\n",
            "False\n"
          ],
          "name": "stdout"
        }
      ]
    },
    {
      "cell_type": "markdown",
      "metadata": {
        "id": "Gd5CzrOTEgRP"
      },
      "source": [
        "**Ejemplo de contextualización de OR:**\n",
        "\n",
        "\n",
        "**1. False and False= False**\n",
        "2. True or True= True\n",
        "3. True or False= True\n",
        "4. False or True=True"
      ]
    },
    {
      "cell_type": "code",
      "metadata": {
        "colab": {
          "base_uri": "https://localhost:8080/"
        },
        "id": "3ym0q5CLFOAi",
        "outputId": "ca9a5afa-aba2-48b9-ae68-e0c4f55979ba"
      },
      "source": [
        "a=3\n",
        "b=2\n",
        "print(a>4 or a==4)\n",
        "print(b==b and a>=b)"
      ],
      "execution_count": null,
      "outputs": [
        {
          "output_type": "stream",
          "text": [
            "False\n",
            "True\n"
          ],
          "name": "stdout"
        }
      ]
    },
    {
      "cell_type": "markdown",
      "metadata": {
        "id": "MxStjnsyFjIe"
      },
      "source": [
        "**Operador NOT**\n",
        "\n",
        "---\n",
        "Este operador es negación, en español \"No\". Este operador es muy especial, dado que por si solo no sirve para hacer ninguna operación, lo unico que hace es negar\n",
        " \n"
      ]
    },
    {
      "cell_type": "code",
      "metadata": {
        "colab": {
          "base_uri": "https://localhost:8080/"
        },
        "id": "N2EQEjYmGdX4",
        "outputId": "2120daf7-8742-47ab-9a6a-3aa9d2d84b0b"
      },
      "source": [
        "print (not False)\n",
        "print (not True)"
      ],
      "execution_count": null,
      "outputs": [
        {
          "output_type": "stream",
          "text": [
            "True\n",
            "False\n"
          ],
          "name": "stdout"
        }
      ]
    },
    {
      "cell_type": "markdown",
      "metadata": {
        "id": "QxT2LSJFFM3Y"
      },
      "source": [
        "**PRECEDENCIA DE OPERACIONES**\n",
        "\n",
        "---\n",
        "Es muy importante manejar el orden de las operaciones al realizarlas para no caer en problemas de código error.\n",
        "\n",
        "El orden debe ser:\n",
        "1. De izquierda a derecha.\n",
        "2. Parentesis\n",
        "3. Potenciación o  radicación\n",
        "4. Multiplicación y división\n",
        "5. Suma y resta.\n",
        "\n",
        "**Ejemplo**\n",
        "4-2(10)=\n",
        "1. Primero el parentesis:\n",
        "4-2*10=\n",
        "2. Se continua con la multiplicación.\n",
        "4-20=\n",
        "3. Por ultimo  la resta:\n",
        "4-20= -16\n",
        "\n",
        "*¿Cual crees que es el resultado de la siguiente operación?*\n"
      ]
    },
    {
      "cell_type": "code",
      "metadata": {
        "colab": {
          "base_uri": "https://localhost:8080/"
        },
        "id": "gnDsLVBTIk_2",
        "outputId": "3e093798-11d6-433c-c8d7-effec5742cd6"
      },
      "source": [
        "a=False\n",
        "b=True\n",
        "C=True\n",
        "print (not c and (a or b))"
      ],
      "execution_count": null,
      "outputs": [
        {
          "output_type": "stream",
          "text": [
            "False\n"
          ],
          "name": "stdout"
        }
      ]
    },
    {
      "cell_type": "code",
      "metadata": {
        "colab": {
          "base_uri": "https://localhost:8080/"
        },
        "id": "rXf6h8vyJA3o",
        "outputId": "e06d7d28-3a43-4a9a-eba8-1f00b3060a28"
      },
      "source": [
        "print (3-2*(13-5))"
      ],
      "execution_count": null,
      "outputs": [
        {
          "output_type": "stream",
          "text": [
            "-13\n"
          ],
          "name": "stdout"
        }
      ]
    },
    {
      "cell_type": "markdown",
      "metadata": {
        "id": "x3ZCXUYPJW_D"
      },
      "source": [
        "**RESUMEN**\n",
        "\n",
        "---\n",
        "1.Aplicación de ley conmutativa: Solo para suma y resta (Operadores básicos)\n",
        "2. Los resultados con operadores lógicos son de tipo Booleano.\n",
        "3. **NO** se puede realizar resta entre varaiables de tipo cadena(El procedimiento si abarca números es la conversión desde el inicio).\n",
        "4. Si aplicamos el condicional AND, para que el resultado de TRUE, la única fora es que ambos valores sean verdaderos.\n",
        "5. En cambio con el OR, si cumple que alguno de los dos valores son TRUE, el resultado será TRUE.\n",
        "\n",
        "\n"
      ]
    },
    {
      "cell_type": "markdown",
      "metadata": {
        "id": "tAW80LYkKxJd"
      },
      "source": [
        "**TAREA CLASE 2**\n",
        "\n",
        "---\n",
        "5 ejercicios mezclando operadores y tipos de variables. \n"
      ]
    },
    {
      "cell_type": "code",
      "metadata": {
        "colab": {
          "base_uri": "https://localhost:8080/"
        },
        "id": "XRq4hFi7czEY",
        "outputId": "fc9260c0-d9f5-4940-906e-41bbff01265c"
      },
      "source": [
        "animales={}\n",
        "animales['domesticos']='perro','gato','vaca','cerdo'\n",
        "animales['salvajes']='tiburón','oso polar','elefante asiatico','león'\n",
        "animalesds=(animales['domesticos']+animales['salvajes'])\n",
        "print(animales['domesticos'],animales['salvajes'])\n",
        "print('animales domesticos y salvajes:',animalesds)\n",
        "animales['domesticos']=True\n",
        "animales['salvajes']=True\n",
        "print(not animales['domesticos'] or (animales['domesticos'] and animales['salvajes']))\n",
        "\n"
      ],
      "execution_count": 28,
      "outputs": [
        {
          "output_type": "stream",
          "text": [
            "('perro', 'gato', 'vaca', 'cerdo') ('tiburón', 'oso polar', 'elefante asiatico', 'león')\n",
            "animales domesticos y salvajes: ('perro', 'gato', 'vaca', 'cerdo', 'tiburón', 'oso polar', 'elefante asiatico', 'león')\n",
            "True\n"
          ],
          "name": "stdout"
        }
      ]
    }
  ]
}