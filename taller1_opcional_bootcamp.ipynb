{
  "nbformat": 4,
  "nbformat_minor": 0,
  "metadata": {
    "colab": {
      "name": "taller1_opcional_bootcamp.ipynb",
      "private_outputs": true,
      "provenance": [],
      "collapsed_sections": [],
      "authorship_tag": "ABX9TyPzq26H5ejZvg8r4BYNz2gO",
      "include_colab_link": true
    },
    "kernelspec": {
      "name": "python3",
      "display_name": "Python 3"
    },
    "language_info": {
      "name": "python"
    }
  },
  "cells": [
    {
      "cell_type": "markdown",
      "metadata": {
        "id": "view-in-github",
        "colab_type": "text"
      },
      "source": [
        "<a href=\"https://colab.research.google.com/github/Angelaliliam1989/Mujeresdigitales/blob/main/taller1_opcional_bootcamp.ipynb\" target=\"_parent\"><img src=\"https://colab.research.google.com/assets/colab-badge.svg\" alt=\"Open In Colab\"/></a>"
      ]
    },
    {
      "cell_type": "markdown",
      "metadata": {
        "id": "zuipJ_JmuaMt"
      },
      "source": [
        ""
      ]
    },
    {
      "cell_type": "code",
      "metadata": {
        "id": "kOkI-kj1KlmB"
      },
      "source": [
        "#1 Rosado= premio 1\n",
        "#2 Verde= premio 2\n",
        "#3 Azul= premio 3\n",
        "#4 Gris= premio 4\n",
        "#5 Roja=No hay precio\n",
        "\n",
        "##las declaraciones para el color de las balotas seran las siguientes: Rosado(R), Verde(V), Azul(A), Gris(G), Roja(RR)\n",
        "\n",
        "##creacion de las variables:\n",
        "participante= input('Nombre del participante:',)\n",
        "balota= input('Color de la balota:',)\n",
        "variable=(input(\"valor variable\"))\n",
        "\n",
        "premio1=\"Viaje todo incluído para dos personas a San Andrés\"\n",
        "premio2=\"Pasadía a los termales de San Vicente, (incluyendo almuerzo)\"\n",
        "premio3=\"Viaje todo incluido para dos personas a Santa Marta\"\n",
        "premio4=\"Pasadía al desierto de Tatacoa\"\n",
        "bono1=\"Dos boletas de cine 4D para la película en estreno del mes (incluyendo un combo de palomitas)\"\n",
        "\n",
        "\n",
        "if balota==\"R\":\n",
        "  bono=int(1000000*0.15)\n",
        "  if bono<120000:\n",
        "    print(\"La empresa VIVAFLY se complace en anunciar que la participante:\",participante,\"ganó\",premio1)\n",
        "    print(\"y\",bono1,\"en nuestro sorteo de viajes de Amor y Amistad\")\n",
        "  else: \n",
        "     print(\"La empresa VIVAFLY se complace en anunciar que la participante:\",participante,\"ganó\",premio1)\n",
        "     print(\"y\",bono1,\"en nuestro sorteo de viajes de Amor y Amistad\")\n",
        "\n",
        "elif balota==\"V\":\n",
        "  bono=int(1000000*0.2)\n",
        "  if bono<120000:\n",
        "    print(\"La empresa VIVAFLY se complace en anunciar que la participante:\",participante,\"ganó\",premio2)\n",
        "    print(\"y\",bono1,\"en nuestro sorteo de viajes de Amor y Amistad\")\n",
        "  else: \n",
        "     print(\"La empresa VIVAFLY se complace en anunciar que la participante:\",participante,\"ganó\",premio2)\n",
        "     print(\"y\",bono1,\"en nuestro sorteo de viajes de Amor y Amistad\")\n",
        "\n",
        "elif balota==\"A\":\n",
        "  bono=int(1000000*0.05)\n",
        "  if bono<120000:\n",
        "    print(\"La empresa VIVAFLY se complace en anunciar que la participante:\",participante,\"ganó\",premio3)\n",
        "    print(\"y\",bono1,\"en nuestro sorteo de viajes de Amor y Amistad\")\n",
        "  else: \n",
        "     print(\"La empresa VIVAFLY se complace en anunciar que la participante:\",participante,\"ganó\",premio3)\n",
        "     print(\"y\",bono1,\"en nuestro sorteo de viajes de Amor y Amistad\")\n",
        "\n",
        "elif balota==\"G\":\n",
        "  bono=int(1000000*0.2)\n",
        "  if bono<120000:\n",
        "    print(\"La empresa VIVAFLY se complace en anunciar que la participante:\",participante,\"ganó\",premio4)\n",
        "    print(\"y\",bono1,\"en nuestro sorteo de viajes de Amor y Amistad\")\n",
        "  else: \n",
        "     print(\"La empresa VIVAFLY se complace en anunciar que la participante:\",participante,\"ganó\",premio4)\n",
        "     print(\"y\",bono1,\"en nuestro sorteo de viajes de Amor y Amistad\")\n",
        "\n",
        "else:\n",
        "  bono1=int(120000)\n",
        "  print(\"La empresa VIVAFLY se complace en anunciar que la participante:\", participante, \"ganó un premio de\",bono1, \"en nuestro sorteo de viajes de AMOR Y AMISTAD\")"
      ],
      "execution_count": null,
      "outputs": []
    },
    {
      "cell_type": "code",
      "metadata": {
        "id": "1mqJAl_RkEnN"
      },
      "source": [
        "participante=input('Nombre del participante:',)\n",
        "balota=input('Color de la balota:',)\n",
        "variable=int(input(\"valor variable:\",))\n",
        "\n",
        "antiguedad=int(input(\"antiguedad:\",))\n",
        "if 0<antiguedad>=10:\n",
        "  total_puntos=int(variable*0.5)\n",
        "  print(\"el valor total de puntos es de: \",total_puntos)\n",
        "elif antiguedad<10:\n",
        "  total_puntos=int(variable*0.4)\n",
        "  print(\"el valor total de puntos es de: \",total_puntos)\n",
        "\n",
        "referidos=int(input(\"referidos:\",))\n",
        "if 0<referidos>=10:\n",
        "  total_puntos=int(variable*0.3)\n",
        "  print(\"el valor total de puntos es de: \",total_puntos)\n",
        "elif referidos<10: \n",
        "  total_puntos=int(variable*0.2)\n",
        "  print(\"el valor total de puntos es de: \",total_puntos)\n",
        "\n",
        "liderazgo=(input(\"liderazgo:\",))\n",
        "if liderazgo=='si':\n",
        "  total_puntos=int(variable*0.2)\n",
        "  print(\"el valor total de puntos es de: \",total_puntos)\n",
        "elif liderazgo=='no':\n",
        "  total_puntos=int(variable*0.1)\n",
        "  print(\"el valor total de puntos es de: \",total_puntos)\n",
        "\n",
        "\n"
      ],
      "execution_count": null,
      "outputs": []
    },
    {
      "cell_type": "code",
      "metadata": {
        "id": "IPQI4sW8SDGv"
      },
      "source": [
        "participante=input('Nombre del participante:',)\n",
        "balota=input('Color de la balota:',)\n",
        "variable=int(input(\"valor variable:\",))\n",
        "\n",
        "antiguedad=int(input(\"antiguedad:\",))\n",
        "if 0<antiguedad>=10:\n",
        "  total_puntos=int(variable*0.5)\n",
        "  print(\"el valor total de puntos es de: \",total_puntos)\n",
        "elif antiguedad<10:\n",
        "  total_puntos=int(variable*0.4)\n",
        "  print(\"el valor total de puntos es de: \",total_puntos)\n",
        "\n",
        "referidos=int(input(\"referidos:\",))\n",
        "if 0<referidos>=10:\n",
        "  total_puntos=int(variable*0.3)\n",
        "  print(\"el valor total de puntos es de: \",total_puntos)\n",
        "elif referidos<10: \n",
        "  total_puntos=int(variable*0.2)\n",
        "  print(\"el valor total de puntos es de: \",total_puntos)\n",
        "\n",
        "liderazgo=(input(\"liderazgo:\",))\n",
        "if liderazgo=='si':\n",
        "  total_puntos=int(variable*0.2)\n",
        "  print(\"el valor total de puntos es de: \",total_puntos)\n",
        "elif liderazgo=='no':\n",
        "  total_puntos=int(variable*0.1)\n",
        "  print(\"el valor total de puntos es de: \",total_puntos)\n",
        "\n",
        "if antiguedad>10 and referidos>10 and liderazgo=='si':\n",
        "  total_puntos=int(variable*0.5)\n",
        "  total_puntos > 600000\n",
        "  puntos=500\n",
        "  print(\"el valor total de puntos es de:\", puntos)\n",
        "elif total_puntos < 600000:\n",
        "  puntos=250\n",
        "  print(\"el valor total de puntos es de:\", puntos)\n",
        "\n",
        "if antiguedad>10 and referidos>10 or liderazgo=='si':\n",
        "  total_puntos=int(variable*0.5)\n",
        "  total_puntos > 250000\n",
        "  puntos=200\n",
        "  print(\"el valor total de puntos es de:\", puntos)\n",
        "elif total_puntos < 600000:\n",
        "  puntos=50\n",
        "  print(\"el valor total de puntos es de:\", puntos)\n",
        "\n",
        "if antiguedad>10 or referidos>10 or liderazgo=='si':\n",
        "  total_puntos=int(variable*0.5)\n",
        "  puntos= int(variable*0.1)\n",
        "  print(\"el valor total de puntos es de:\", puntos)\n",
        "  \n"
      ],
      "execution_count": null,
      "outputs": []
    }
  ]
}