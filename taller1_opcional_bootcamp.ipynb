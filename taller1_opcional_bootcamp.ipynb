{
  "nbformat": 4,
  "nbformat_minor": 0,
  "metadata": {
    "colab": {
      "name": "taller1_opcional_bootcamp.ipynb",
      "private_outputs": true,
      "provenance": [],
      "collapsed_sections": [],
      "authorship_tag": "ABX9TyNWyOcKKPXa8EBPWiTzv3rj",
      "include_colab_link": true
    },
    "kernelspec": {
      "name": "python3",
      "display_name": "Python 3"
    },
    "language_info": {
      "name": "python"
    }
  },
  "cells": [
    {
      "cell_type": "markdown",
      "metadata": {
        "id": "view-in-github",
        "colab_type": "text"
      },
      "source": [
        "<a href=\"https://colab.research.google.com/github/Angelaliliam1989/Mujeresdigitales/blob/main/taller1_opcional_bootcamp.ipynb\" target=\"_parent\"><img src=\"https://colab.research.google.com/assets/colab-badge.svg\" alt=\"Open In Colab\"/></a>"
      ]
    },
    {
      "cell_type": "markdown",
      "metadata": {
        "id": "zuipJ_JmuaMt"
      },
      "source": [
        ""
      ]
    },
    {
      "cell_type": "code",
      "metadata": {
        "id": "kOkI-kj1KlmB"
      },
      "source": [
        "#1 Rosado= premio 1\n",
        "#2 Verde= premio 2\n",
        "#3 Azul= premio 3\n",
        "#4 Gris= premio 4\n",
        "#5 Roja=No hay precio\n",
        "\n",
        "##las declaraciones para el color de las balotas seran las siguientes: Rosado(R), Verde(V), Azul(A), Gris(G), Roja(RR)\n",
        "\n",
        "##creacion de las variables:\n",
        "participante= input('Nombre del participante:',)\n",
        "balota= input('Color de la balota:',)\n",
        "variable=(input(\"valor variable\"))\n",
        "\n",
        "premio1=\"Viaje todo incluído para dos personas a San Andrés\"\n",
        "premio2=\"Pasadía a los termales de San Vicente, (incluyendo almuerzo)\"\n",
        "premio3=\"Viaje todo incluido para dos personas a Santa Marta\"\n",
        "premio4=\"Pasadía al desierto de Tatacoa\"\n",
        "bono1=\"Dos boletas de cine 4D para la película en estreno del mes (incluyendo un combo de palomitas)\"\n",
        "\n",
        "\n",
        "if balota==\"R\":\n",
        "  bono=int(1000000*0.15)\n",
        "  if bono<120000:\n",
        "    print(\"La empresa VIVAFLY se complace en anunciar que la participante:\",participante,\"ganó\",premio1)\n",
        "    print(\"y\",bono1,\"en nuestro sorteo de viajes de Amor y Amistad\")\n",
        "  else: \n",
        "     print(\"La empresa VIVAFLY se complace en anunciar que la participante:\",participante,\"ganó\",premio1)\n",
        "     print(\"y\",bono1,\"en nuestro sorteo de viajes de Amor y Amistad\")\n",
        "\n",
        "elif balota==\"V\":\n",
        "  bono=int(1000000*0.2)\n",
        "  if bono<120000:\n",
        "    print(\"La empresa VIVAFLY se complace en anunciar que la participante:\",participante,\"ganó\",premio2)\n",
        "    print(\"y\",bono1,\"en nuestro sorteo de viajes de Amor y Amistad\")\n",
        "  else: \n",
        "     print(\"La empresa VIVAFLY se complace en anunciar que la participante:\",participante,\"ganó\",premio2)\n",
        "     print(\"y\",bono1,\"en nuestro sorteo de viajes de Amor y Amistad\")\n",
        "\n",
        "elif balota==\"A\":\n",
        "  bono=int(1000000*0.05)\n",
        "  if bono<120000:\n",
        "    print(\"La empresa VIVAFLY se complace en anunciar que la participante:\",participante,\"ganó\",premio3)\n",
        "    print(\"y\",bono1,\"en nuestro sorteo de viajes de Amor y Amistad\")\n",
        "  else: \n",
        "     print(\"La empresa VIVAFLY se complace en anunciar que la participante:\",participante,\"ganó\",premio3)\n",
        "     print(\"y\",bono1,\"en nuestro sorteo de viajes de Amor y Amistad\")\n",
        "\n",
        "elif balota==\"G\":\n",
        "  bono=int(1000000*0.2)\n",
        "  if bono<120000:\n",
        "    print(\"La empresa VIVAFLY se complace en anunciar que la participante:\",participante,\"ganó\",premio4)\n",
        "    print(\"y\",bono1,\"en nuestro sorteo de viajes de Amor y Amistad\")\n",
        "  else: \n",
        "     print(\"La empresa VIVAFLY se complace en anunciar que la participante:\",participante,\"ganó\",premio4)\n",
        "     print(\"y\",bono1,\"en nuestro sorteo de viajes de Amor y Amistad\")\n",
        "\n",
        "else:\n",
        "  bono1=int(120000)\n",
        "  print(\"La empresa VIVAFLY se complace en anunciar que la participante:\", participante, \"ganó un premio de\",bono1, \"en nuestro sorteo de viajes de AMOR Y AMISTAD\")"
      ],
      "execution_count": null,
      "outputs": []
    },
    {
      "cell_type": "code",
      "metadata": {
        "id": "S-E_vk0T0EQC"
      },
      "source": [
        "ganador1=\"R\"\n",
        "ganador2=\"V\"\n",
        "ganador3=\"A\"\n",
        "ganador4=\"G\"\n",
        "\n",
        "balota= input('Color de la balota:',)\n",
        "variable=(input('valor variable:',))\n",
        "if balota==\"G\":\n",
        "  ant=int(input(\"antiguedad:\",))\n",
        "  ref=int(input(\"referidos:\",))\n",
        "  lid=float(input(\"liderazgo:\",))\n",
        "  if ant>10:\n",
        "    print(int((ant*0.5)+variable)\n",
        "  elif ant<10:\n",
        "    print((ant*0.4)+variable)\n",
        "     \n",
        "  if ref>10:\n",
        "    print(ref((ant*0.3)+variable)\n",
        "  elif ref<10:\n",
        "    print(ref((ant*0.2)+variable)\n",
        "       \n",
        "  if lid==20:\n",
        "    print(float((lid*0.2)+variable)\n",
        "  elif lid==10:\n",
        "    print(float((lid*0.1)+variable)\n",
        "\n",
        "  else:\n",
        "      print(0.5*variable)\n",
        "\n",
        "\n",
        "     "
      ],
      "execution_count": null,
      "outputs": []
    }
  ]
}