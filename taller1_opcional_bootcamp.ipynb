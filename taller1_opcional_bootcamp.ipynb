{
  "nbformat": 4,
  "nbformat_minor": 0,
  "metadata": {
    "colab": {
      "name": "taller1_opcional_bootcamp.ipynb",
      "private_outputs": true,
      "provenance": [],
      "authorship_tag": "ABX9TyO425AznOkTbGSRdoBpsATR",
      "include_colab_link": true
    },
    "kernelspec": {
      "name": "python3",
      "display_name": "Python 3"
    },
    "language_info": {
      "name": "python"
    }
  },
  "cells": [
    {
      "cell_type": "markdown",
      "metadata": {
        "id": "view-in-github",
        "colab_type": "text"
      },
      "source": [
        "<a href=\"https://colab.research.google.com/github/Angelaliliam1989/Mujeresdigitales/blob/main/taller1_opcional_bootcamp.ipynb\" target=\"_parent\"><img src=\"https://colab.research.google.com/assets/colab-badge.svg\" alt=\"Open In Colab\"/></a>"
      ]
    },
    {
      "cell_type": "code",
      "metadata": {
        "id": "7f7opNhpS_jR"
      },
      "source": [
        "\n",
        "\n",
        "#rosada=premio1\n",
        "#verde=premio2\n",
        "#azul=premio3\n",
        "#gris=premio4\n",
        "#5oja=no hay premio\n",
        "\n",
        "rosada=\"r\"\n",
        "verde=\"v\"\n",
        "azul=\"a\"\n",
        "gris=\"g\"\n",
        "\n",
        "concursante= input('Nombre del participante:',)\n",
        "balota= input('Color de la balota:',)\n",
        "variable= input(\"valor variable:\",)\n",
        "\n",
        "premio1=\"Viaje todo incluído para dos personas a San Andrés\"\n",
        "premio2=\"Pasadía a los termales de San Vicente, (incluyendo almuerzo)\"\n",
        "premio3=\"Viaje todo incluido para dos personas a Santa Marta\"\n",
        "premio4=\"Pasadía al desierto de Tatacoa\"\n",
        "bono1=\"Dos boletas de cine 4D para la película en estreno del mes (incluyendo un combo de palomitas)\"\n",
        "\n",
        "\n",
        "if balota==\"r\":\n",
        "  puntos=int(variable*0.15)\n",
        "  if puntos<120000:\n",
        "    print(\"La empresa VIVAFLY se complace en anunciar que la participante:\",concursante,\"ganó\",premio1)\n",
        "    print(\"adicionalmente se le otorga\",puntos,\"puntos para redimir en un premio a futuro\")\n",
        "  else:\n",
        "    print(\"La empresa VIVAFLY se complace en anunciar que la participante:\",concursante,\"ganó\",premio1)\n",
        "\n",
        "    print(\"y\",bono1,\"en nuestro sorteo de viajes de Amor y Amistad\",)\n",
        "\n",
        "elif balota==\"v\":\n",
        "  puntos=int(variable*0.20)\n",
        "  if puntos<120000:\n",
        "    print(\"La empresa VIVAFLY se complace en anunciar que la participante:\",concursante,\"ganó\",premio2)\n",
        "    print(\"adicionalmente se le otorga\",puntos,\"puntos para redimir en un premio a futuro\")\n",
        "  else:\n",
        "    print(\"La empresa VIVAFLY se complace en anunciar que la participante:\",concursante,\"ganó\",premio2)\n",
        "    print(\"y\",bono1,\"en nuestro sorteo de viajes de Amor y Amistad\",)\n",
        "\n",
        "elif balota==\"a\":\n",
        "  puntos=int(variable*0.05)\n",
        "  if puntos<120000:\n",
        "    print(\"La empresa VIVAFLY se complace en anunciar que la participante:\",concursante,\"ganó\",premio3)\n",
        "    print(\"adicionalmente se le otorga\",puntos,\"puntos para redimir en un premio a futuro\")\n",
        "  else:\n",
        "    print(\"La empresa VIVAFLY se complace en anunciar que la participante:\",concursante,\"ganó\",premio3)\n",
        "    print(\"y\",bono1,\"en nuestro sorteo de viajes de Amor y Amistad\",)\n",
        "\n",
        "elif balota==\"g\":\n",
        "  puntos=int(variable*0.20)\n",
        "  if puntos<120000:\n",
        "    print(\"La empresa VIVAFLY se complace en anunciar que la participante:\",concursante,\"ganó\",premio4)\n",
        "    print(\"adicionalmente se le otorga\",puntos,\"puntos para redimir en un premio a futuro\")\n",
        "  else:\n",
        "    print(\"La empresa VIVAFLY se complace en anunciar que la participante:\",concursante,\"ganó\",premio4)\n",
        "    print(\"y\",bono1,\"en nuestro sorteo de viajes de Amor y Amistad\",)\n",
        "\n",
        "else:\n",
        "  bono1=int(120000)\n",
        "  print(\"La empresa VIVAFLY se complace en anunciar que la participante:\", concursante, \"ganó un premio de\",bono1, \"en nuestro sorteo de viajes de AMOR Y AMISTAD\")\n",
        "\n",
        "\n",
        "\n",
        "\n",
        "\n",
        "\n",
        "\n",
        "\n"
      ],
      "execution_count": null,
      "outputs": []
    }
  ]
}