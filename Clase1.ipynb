{
  "nbformat": 4,
  "nbformat_minor": 0,
  "metadata": {
    "colab": {
      "name": "Clase1.ipynb",
      "provenance": [],
      "authorship_tag": "ABX9TyNKKcAeV/4IVPeXX6Xzd3D3",
      "include_colab_link": true
    },
    "kernelspec": {
      "name": "python3",
      "display_name": "Python 3"
    },
    "language_info": {
      "name": "python"
    }
  },
  "cells": [
    {
      "cell_type": "markdown",
      "metadata": {
        "id": "view-in-github",
        "colab_type": "text"
      },
      "source": [
        "<a href=\"https://colab.research.google.com/github/Angelaliliam1989/Mujeresdigitales/blob/main/Clase1.ipynb\" target=\"_parent\"><img src=\"https://colab.research.google.com/assets/colab-badge.svg\" alt=\"Open In Colab\"/></a>"
      ]
    },
    {
      "cell_type": "markdown",
      "metadata": {
        "id": "X7NhijYrnxsw"
      },
      "source": [
        "**Introducción**\n",
        "\n",
        "---\n",
        "Para manejar un codigo limpio en Phyton:\n",
        "Podemos seguir las siguientes recomendaciones:\n",
        "\n",
        "1. Manejar siempre minuscula\n",
        "2. Se le puede añadir numeros\n",
        "3. Aparecera error si no están seguidos la declaración de la variable con el numero asignado, es decir. Ejemplo: ana1 (correcto) ana 1 (incorrecto-error).\n",
        "\n",
        "En python hay varios tipos de datos compuestos y estan disponibles por defecto en los interpretes.\n",
        "**¿De que tipos?**\n",
        "1. Numericos\n",
        "2. Secuencias\n",
        "3. Mapeos\n",
        "4. Conjuntos usados para agrupar valores\n",
        "\n",
        "**Diferencia entre constantes y variables**\n",
        "En matematicas llamamos constante a una magitud que no cambia con el paso del tiempo.\n",
        "Ejemplo: Contabilidad: Gastos fijos_ Muebles de oficina\n",
        "Ejemplo 2: 6\n",
        "\n",
        "Por otro lado, el cocepto de variable, como la cantidad que es susceptible a tomar distintos valores numericos.\n",
        "**Ejemplo**:\n"
      ]
    },
    {
      "cell_type": "code",
      "metadata": {
        "colab": {
          "base_uri": "https://localhost:8080/"
        },
        "id": "DamYPW5HrKUK",
        "outputId": "ea04aabd-9b28-44a0-85b6-8888628b1e3e"
      },
      "source": [
        "x=5\n",
        "print(x)\n",
        "a=76\n",
        "print(a)"
      ],
      "execution_count": null,
      "outputs": [
        {
          "output_type": "stream",
          "text": [
            "5\n",
            "76\n"
          ],
          "name": "stdout"
        }
      ]
    },
    {
      "cell_type": "markdown",
      "metadata": {
        "id": "VSTk6ZBwsAfL"
      },
      "source": [
        "**Tipos de datos**\n",
        "\n",
        "---\n",
        "\n",
        "**Enteros**\n",
        "\n",
        "*   Son los numeros que no tienen decimales\n",
        "*   Pueden ser positivos y negativos\n"
      ]
    },
    {
      "cell_type": "code",
      "metadata": {
        "colab": {
          "base_uri": "https://localhost:8080/"
        },
        "id": "i783FjoXulxO",
        "outputId": "99e87ea7-afdb-4eee-c9b5-d1a6fc2781e0"
      },
      "source": [
        "a=int(4.5)\n",
        "print(a, type(a))"
      ],
      "execution_count": null,
      "outputs": [
        {
          "output_type": "stream",
          "text": [
            "4 <class 'int'>\n"
          ],
          "name": "stdout"
        }
      ]
    },
    {
      "cell_type": "markdown",
      "metadata": {
        "id": "PU84q30R9CQa"
      },
      "source": [
        "El comando int es para hacer alusión a numeros enteros.\n",
        "A parte el comando float, permite valores con decimales."
      ]
    },
    {
      "cell_type": "code",
      "metadata": {
        "colab": {
          "base_uri": "https://localhost:8080/"
        },
        "id": "UisI0Nb28mLf",
        "outputId": "8433f0fc-c30f-4057-f3c0-bb4525dafdf1"
      },
      "source": [
        "b=float(8.23) \n",
        "print(b,type(b))"
      ],
      "execution_count": null,
      "outputs": [
        {
          "output_type": "stream",
          "text": [
            "8.23 <class 'float'>\n"
          ],
          "name": "stdout"
        }
      ]
    },
    {
      "cell_type": "markdown",
      "metadata": {
        "id": "O3P9Trrt9uKD"
      },
      "source": [
        "**Tipo cadena**\n",
        "\n",
        "---\n",
        "Las cadenas son texto encerrado entre comillas (simples o dobles) y se pueden conformar de diferentes caracteres (Numericos, Alfabeticos, Especiales #$+*%).\n",
        "Tener en cuenta, las cadeas admiten operadores como la suma y la resta. (variable string) \n"
      ]
    },
    {
      "cell_type": "code",
      "metadata": {
        "colab": {
          "base_uri": "https://localhost:8080/"
        },
        "id": "6nZTGq2L-bq3",
        "outputId": "c417159d-3a48-437a-c4be-bd6d8e04de40"
      },
      "source": [
        "\n",
        "Val2=\"hola mundo\"\n",
        "print(Val2)\n",
        "\n",
        "Val1=\"Luisa\"\n",
        "print(Val1)\n"
      ],
      "execution_count": null,
      "outputs": [
        {
          "output_type": "stream",
          "text": [
            "hola mundo\n",
            "Luisa\n"
          ],
          "name": "stdout"
        }
      ]
    },
    {
      "cell_type": "code",
      "metadata": {
        "colab": {
          "base_uri": "https://localhost:8080/"
        },
        "id": "wM28EDlv_yFn",
        "outputId": "bea93b2f-3cf6-44b4-de04-9c25ab64cb40"
      },
      "source": [
        "n=\"Aprender\"\n",
        "z=\"Phyton\"\n",
        "w=\"Aprender Phyton\"\n",
        "print(w)\n",
        "\n",
        "q=\"5\"\n",
        "p=\"2\"\n",
        "b=int(q)\n",
        "c=int(p)\n",
        "print(b-c)\n",
        "\n"
      ],
      "execution_count": null,
      "outputs": [
        {
          "output_type": "stream",
          "text": [
            "Aprender Phyton\n",
            "3\n"
          ],
          "name": "stdout"
        }
      ]
    },
    {
      "cell_type": "markdown",
      "metadata": {
        "id": "ZO0j2Y-yRJ4P"
      },
      "source": [
        ""
      ]
    },
    {
      "cell_type": "markdown",
      "metadata": {
        "id": "F08Iac-nTMob"
      },
      "source": [
        "**Tipo Booleano**\n",
        "\n",
        "---\n",
        "Este tipo de variable solo tendra un valor de Verdadero o Falso.\n",
        "**Nota:**\n",
        "Son valores muy usados en condiciones y bucles\n",
        "\n"
      ]
    },
    {
      "cell_type": "code",
      "metadata": {
        "id": "GEX0EqpQTvL2",
        "colab": {
          "base_uri": "https://localhost:8080/"
        },
        "outputId": "da1fa378-ba27-429f-ac0c-34a463fe22b4"
      },
      "source": [
        "lola=True\n",
        "print(\"el valor es verdadero:\",lola,\",el cual es de tipo\",type(lola))"
      ],
      "execution_count": null,
      "outputs": [
        {
          "output_type": "stream",
          "text": [
            "el valor es verdadero: True ,el cual es de tipo <class 'bool'>\n"
          ],
          "name": "stdout"
        }
      ]
    },
    {
      "cell_type": "markdown",
      "metadata": {
        "id": "qPuH0KVjjCE5"
      },
      "source": [
        "Python cuenta con tipos de datos que admiten colecciones:\n",
        "1. Listas\n",
        "2. Tuplas\n",
        "3. Diccionario\n",
        "\n",
        "**Tipo de conjuntos**\n",
        "Son una colección de datos sin elementos que repiten:"
      ]
    },
    {
      "cell_type": "code",
      "metadata": {
        "id": "_jKJQXGiMlZZ",
        "colab": {
          "base_uri": "https://localhost:8080/",
          "height": 129
        },
        "outputId": "28b648fd-ecc4-4cc1-c93f-00bc1cb26825"
      },
      "source": [
        "fru='pera', 'manana', 'naranja'\n",
        "print(fru)"
      ],
      "execution_count": null,
      "outputs": [
        {
          "output_type": "error",
          "ename": "SyntaxError",
          "evalue": "ignored",
          "traceback": [
            "\u001b[0;36m  File \u001b[0;32m\"<ipython-input-34-4ed02d771447>\"\u001b[0;36m, line \u001b[0;32m1\u001b[0m\n\u001b[0;31m    fru=`pera´, `manzana´, `naranja´\u001b[0m\n\u001b[0m        ^\u001b[0m\n\u001b[0;31mSyntaxError\u001b[0m\u001b[0;31m:\u001b[0m invalid syntax\n"
          ]
        }
      ]
    }
  ]
}