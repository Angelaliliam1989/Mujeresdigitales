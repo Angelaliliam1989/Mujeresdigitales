{
  "nbformat": 4,
  "nbformat_minor": 0,
  "metadata": {
    "colab": {
      "name": "Clase1.ipynb",
      "provenance": [],
      "collapsed_sections": [],
      "authorship_tag": "ABX9TyPa5htyziaWRB6/u0WUgtvU",
      "include_colab_link": true
    },
    "kernelspec": {
      "name": "python3",
      "display_name": "Python 3"
    },
    "language_info": {
      "name": "python"
    }
  },
  "cells": [
    {
      "cell_type": "markdown",
      "metadata": {
        "id": "view-in-github",
        "colab_type": "text"
      },
      "source": [
        "<a href=\"https://colab.research.google.com/github/Angelaliliam1989/Mujeresdigitales/blob/main/Clase1.ipynb\" target=\"_parent\"><img src=\"https://colab.research.google.com/assets/colab-badge.svg\" alt=\"Open In Colab\"/></a>"
      ]
    },
    {
      "cell_type": "markdown",
      "metadata": {
        "id": "X7NhijYrnxsw"
      },
      "source": [
        "**Introducción**\n",
        "\n",
        "---\n",
        "Para manejar un codigo limpio en Phyton:\n",
        "Podemos seguir las siguientes recomendaciones:\n",
        "\n",
        "1. Manejar siempre minuscula\n",
        "2. Se le puede añadir numeros\n",
        "3. Aparecera error si no están seguidos la declaración de la variable con el numero asignado, es decir. Ejemplo: ana1 (correcto) ana 1 (incorrecto-error).\n",
        "\n",
        "En python hay varios tipos de datos compuestos y están disponibles por defecto en los interpretes.\n",
        "**¿De que tipos?**\n",
        "1. Númericos\n",
        "2. Secuencias\n",
        "3. Mapeos\n",
        "4. Conjuntos usados para agrupar valores\n",
        "\n",
        "**Diferencia entre constantes y variables**\n",
        "En mátematicas llamamos constante a una magnitud que no cambia con el paso del tiempo.\n",
        "\n",
        "Ejemplo 1: Contabilidad: Gastos fijos_ Muebles de oficina\n",
        "\n",
        "Ejemplo 2:  6\n",
        "\n",
        "Por otro lado, el concepto de variable, como la cantidad que es susceptible a tomar distintos valores númericos.\n",
        "\n",
        "**Ejemplo**:\n"
      ]
    },
    {
      "cell_type": "code",
      "metadata": {
        "colab": {
          "base_uri": "https://localhost:8080/"
        },
        "id": "DamYPW5HrKUK",
        "outputId": "ea04aabd-9b28-44a0-85b6-8888628b1e3e"
      },
      "source": [
        "x=5\n",
        "print(x)\n",
        "a=76\n",
        "print(a)"
      ],
      "execution_count": null,
      "outputs": [
        {
          "output_type": "stream",
          "text": [
            "5\n",
            "76\n"
          ],
          "name": "stdout"
        }
      ]
    },
    {
      "cell_type": "markdown",
      "metadata": {
        "id": "VSTk6ZBwsAfL"
      },
      "source": [
        "**Tipos de datos**\n",
        "\n",
        "---\n",
        "\n",
        "**Enteros**:\n",
        "\n",
        "*   Son los números que no tienen decimales\n",
        "*   Pueden ser positivos y negativos\n"
      ]
    },
    {
      "cell_type": "code",
      "metadata": {
        "colab": {
          "base_uri": "https://localhost:8080/"
        },
        "id": "i783FjoXulxO",
        "outputId": "99e87ea7-afdb-4eee-c9b5-d1a6fc2781e0"
      },
      "source": [
        "a=int(4.5)\n",
        "print(a, type(a))"
      ],
      "execution_count": null,
      "outputs": [
        {
          "output_type": "stream",
          "text": [
            "4 <class 'int'>\n"
          ],
          "name": "stdout"
        }
      ]
    },
    {
      "cell_type": "markdown",
      "metadata": {
        "id": "PU84q30R9CQa"
      },
      "source": [
        "El comando int es para hacer alusión a numeros enteros.\n",
        "A parte el comando float, permite valores con decimales."
      ]
    },
    {
      "cell_type": "code",
      "metadata": {
        "colab": {
          "base_uri": "https://localhost:8080/"
        },
        "id": "UisI0Nb28mLf",
        "outputId": "8c2416cf-8ffe-4fb5-976e-105f81aadcc8"
      },
      "source": [
        "b=float(8.23887) \n",
        "print(b,type(b))"
      ],
      "execution_count": null,
      "outputs": [
        {
          "output_type": "stream",
          "text": [
            "8.23887 <class 'float'>\n"
          ],
          "name": "stdout"
        }
      ]
    },
    {
      "cell_type": "markdown",
      "metadata": {
        "id": "O3P9Trrt9uKD"
      },
      "source": [
        "**Tipo cadena**\n",
        "\n",
        "---\n",
        "Las cadenas son texto encerrado entre comillas (simples o dobles) y se pueden conformar de diferentes caracteres (Numericos, Alfabeticos, Especiales #$+*%).\n",
        "Tener en cuenta, las cadeas admiten operadores como la suma y la resta. (variable string) \n"
      ]
    },
    {
      "cell_type": "code",
      "metadata": {
        "colab": {
          "base_uri": "https://localhost:8080/"
        },
        "id": "6nZTGq2L-bq3",
        "outputId": "9a68a9ec-2392-41f9-9d7d-a820e81f48d2"
      },
      "source": [
        "\n",
        "Val2=\"hola mundo!\"\n",
        "print(Val2)\n",
        "\n",
        "Val1=\"Luisa\"\n",
        "print(Val1)\n"
      ],
      "execution_count": null,
      "outputs": [
        {
          "output_type": "stream",
          "text": [
            "hola mundo!\n",
            "Luisa\n"
          ],
          "name": "stdout"
        }
      ]
    },
    {
      "cell_type": "code",
      "metadata": {
        "colab": {
          "base_uri": "https://localhost:8080/"
        },
        "id": "wM28EDlv_yFn",
        "outputId": "90351580-7b15-4fff-de24-504d0afcb778"
      },
      "source": [
        "n=\"Aprender\"\n",
        "z=\"Phyton\"\n",
        "w=\"Aprender Phyton\"\n",
        "print(w)\n",
        "\n",
        "q=\"3\"\n",
        "p=\"2\"\n",
        "b=int(q)\n",
        "c=int(p)\n",
        "print(b-c)"
      ],
      "execution_count": null,
      "outputs": [
        {
          "output_type": "stream",
          "text": [
            "Aprender Phyton\n",
            "1\n"
          ],
          "name": "stdout"
        }
      ]
    },
    {
      "cell_type": "markdown",
      "metadata": {
        "id": "F08Iac-nTMob"
      },
      "source": [
        "**Tipo Booleano**\n",
        "\n",
        "---\n",
        "Este tipo de variable solo tendra un valor de Verdadero o Falso.\n",
        "\n",
        "**Nota:**\n",
        "Son valores muy usados en condiciones y bucles\n",
        "\n"
      ]
    },
    {
      "cell_type": "code",
      "metadata": {
        "id": "GEX0EqpQTvL2",
        "colab": {
          "base_uri": "https://localhost:8080/"
        },
        "outputId": "da1fa378-ba27-429f-ac0c-34a463fe22b4"
      },
      "source": [
        "lola=True\n",
        "print(\"el valor es verdadero:\",lola,\",el cual es de tipo\",type(lola))"
      ],
      "execution_count": null,
      "outputs": [
        {
          "output_type": "stream",
          "text": [
            "el valor es verdadero: True ,el cual es de tipo <class 'bool'>\n"
          ],
          "name": "stdout"
        }
      ]
    },
    {
      "cell_type": "markdown",
      "metadata": {
        "id": "qPuH0KVjjCE5"
      },
      "source": [
        "Python cuenta con tipos de datos que admiten colecciones:\n",
        "1. Listas\n",
        "2. Tuplas\n",
        "3. Diccionario\n",
        "\n",
        "**Tipo de conjuntos**\n",
        "Son una colección de datos sin elementos que repiten:"
      ]
    },
    {
      "cell_type": "code",
      "metadata": {
        "id": "_jKJQXGiMlZZ",
        "colab": {
          "base_uri": "https://localhost:8080/"
        },
        "outputId": "868efd0a-924f-4926-982a-417568b70965"
      },
      "source": [
        "fru='pera', 'manana', 'naranja'\n",
        "color= 'morado','blanco','azul'\n",
        "print(fru,color)"
      ],
      "execution_count": null,
      "outputs": [
        {
          "output_type": "stream",
          "text": [
            "('pera', 'manana', 'naranja') ('morado', 'blanco', 'azul')\n"
          ],
          "name": "stdout"
        }
      ]
    },
    {
      "cell_type": "markdown",
      "metadata": {
        "id": "4OEMkEbV4B3z"
      },
      "source": [
        "**Tipo listas**\n",
        "\n",
        "---\n",
        "Son listas las que almacenan vectores.\n",
        "Las listas siempre empiezan a nombrarse desde el elemento cero(0). Apartir de allí empieza el conteo.\n",
        "\n",
        "Ejemplo de listas en Python:\n"
      ]
    },
    {
      "cell_type": "code",
      "metadata": {
        "colab": {
          "base_uri": "https://localhost:8080/"
        },
        "id": "oltrc6mG4aVx",
        "outputId": "d532594d-3b72-486c-a9db-40b08f884ac1"
      },
      "source": [
        "ines=['5','uva','lila','perro','celular','micro','botella','tetero']\n",
        "print(ines)\n",
        "fe=ines[0:2]\n",
        "print(fe)"
      ],
      "execution_count": null,
      "outputs": [
        {
          "output_type": "stream",
          "text": [
            "['5', 'uva', 'lila', 'perro', 'celular', 'micro', 'botella', 'tetero']\n",
            "['5', 'uva']\n"
          ],
          "name": "stdout"
        }
      ]
    },
    {
      "cell_type": "markdown",
      "metadata": {
        "id": "CiGdGnwE-Z9_"
      },
      "source": [
        "**Tipo Tuplas**\n",
        "\n",
        "---\n",
        "Es una lista que no se puede modificar despues de la creación de esta:\n",
        "Tuplas anidadas: Agupación(Tuplas).\n"
      ]
    },
    {
      "cell_type": "code",
      "metadata": {
        "colab": {
          "base_uri": "https://localhost:8080/"
        },
        "id": "j0DYQXS8-60A",
        "outputId": "19416941-136b-4b58-80c9-b3323ba8e662"
      },
      "source": [
        "tupla=23,28, 'hello'\n",
        "print(tupla)\n",
        "otra=tupla,(1,2,3,4)\n",
        "print(otra)"
      ],
      "execution_count": null,
      "outputs": [
        {
          "output_type": "stream",
          "text": [
            "(23, 28, 'hello')\n",
            "((23, 28, 'hello'), (1, 2, 3, 4))\n"
          ],
          "name": "stdout"
        }
      ]
    },
    {
      "cell_type": "markdown",
      "metadata": {
        "id": "gN69QMCpAoHW"
      },
      "source": [
        "**Tipo Diccionarios**\n",
        "---\n",
        "Define los datos uno a uno entre un campo(ID-Identificador-Clave) y un valor:\n"
      ]
    },
    {
      "cell_type": "code",
      "metadata": {
        "colab": {
          "base_uri": "https://localhost:8080/"
        },
        "id": "e2RyX8BmBeTF",
        "outputId": "1a92577f-f65f-4a1c-9c66-a923098ddb05"
      },
      "source": [
        "datos_b={\n",
        "    \"nombres\":\"Diana\",\n",
        "    \"apellidos\":\"Perea\",\n",
        "    \"cedula\":\"1067989567\",\n",
        "    \"estado_civil\":\"Viuda\",\n",
        "    \"Lugar_nacimiento\":\"Neiva\",\n",
        "\"fecha_nacimiento\":\"24/03/1980\",\n",
        "}\n",
        "print(\"ID del diccionario\",datos_b.keys())\n",
        "print(\"ID del diccionario\",datos_b.values())\n",
        "print(\"ID del diccionario\",datos_b.items())\n",
        "\n",
        "print(\"fecha de nacimiento de Diana:\", datos_b['fecha_nacimiento'])"
      ],
      "execution_count": null,
      "outputs": [
        {
          "output_type": "stream",
          "text": [
            "ID del diccionario dict_keys(['nombres', 'apellidos', 'cedula', 'estado_civil', 'Lugar_nacimiento', 'fecha_nacimiento'])\n",
            "ID del diccionario dict_values(['Diana', 'Perea', '1067989567', 'Viuda', 'Neiva', '24/03/1980'])\n",
            "ID del diccionario dict_items([('nombres', 'Diana'), ('apellidos', 'Perea'), ('cedula', '1067989567'), ('estado_civil', 'Viuda'), ('Lugar_nacimiento', 'Neiva'), ('fecha_nacimiento', '24/03/1980')])\n",
            "fecha de nacimiento de Diana: 24/03/1980\n"
          ],
          "name": "stdout"
        }
      ]
    },
    {
      "cell_type": "markdown",
      "metadata": {
        "id": "vNNGHcgaFDiE"
      },
      "source": [
        "**Ejemplo práctico(caracteristicas de los carros)**\n"
      ]
    },
    {
      "cell_type": "code",
      "metadata": {
        "colab": {
          "base_uri": "https://localhost:8080/"
        },
        "id": "Ew9O2P7dFO_o",
        "outputId": "4b0939a9-1ff9-4033-a677-28a2bee9d815"
      },
      "source": [
        "carros_0={}\n",
        "carros_0['tam']='grande'\n",
        "carros_0['color']='negro'\n",
        "carros_0['marca']='Renault'\n",
        "carros_0['precio']=60\n",
        "\n",
        "carros_1={}\n",
        "carros_1['tam']='pequeño'\n",
        "carros_1['color']='blanco'\n",
        "carros_1['marca']='Chevrolet'\n",
        "carros_1['precio']=37\n",
        "print(carros_0)\n",
        "print(carros_1)\n",
        "\n",
        "compra0=carros_0['precio']\n",
        "compra1=carros_1['precio']\n",
        "compratotal=compra0+compra1\n",
        "\n",
        "print(\"la compra total fue de:\",compratotal)\n",
        "print(\"la compra total fue de:\"+str(compratotal))"
      ],
      "execution_count": null,
      "outputs": [
        {
          "output_type": "stream",
          "text": [
            "{'tam': 'grande', 'color': 'negro', 'marca': 'Renault', 'precio': 60}\n",
            "{'tam': 'pequeño', 'color': 'blanco', 'marca': 'Chevrolet', 'precio': 37}\n",
            "la compra total fue de: 97\n",
            "la compra total fue de:97\n"
          ],
          "name": "stdout"
        }
      ]
    },
    {
      "cell_type": "markdown",
      "metadata": {
        "id": "_Ydj-HhZSnic"
      },
      "source": [
        "**TAREA CLASE 1**\n",
        "\n",
        "---\n",
        "2 ejemplos por cada ejercicio.\n"
      ]
    },
    {
      "cell_type": "markdown",
      "metadata": {
        "id": "7jj29w7KTTuA"
      },
      "source": [
        "**Enteros:**"
      ]
    },
    {
      "cell_type": "code",
      "metadata": {
        "colab": {
          "base_uri": "https://localhost:8080/"
        },
        "id": "wESgiwrzTf4y",
        "outputId": "24a6fb18-fc89-40a0-a859-9f78d57b2617"
      },
      "source": [
        "r=int(-5)\n",
        "print(r)"
      ],
      "execution_count": 10,
      "outputs": [
        {
          "output_type": "stream",
          "text": [
            "-5\n"
          ],
          "name": "stdout"
        }
      ]
    },
    {
      "cell_type": "code",
      "metadata": {
        "colab": {
          "base_uri": "https://localhost:8080/"
        },
        "id": "xSBkCkWYTxlN",
        "outputId": "5066639a-e113-4ca6-eb7c-4f6dfa106764"
      },
      "source": [
        "y=int(7.7)\n",
        "print(y,type(y))"
      ],
      "execution_count": 4,
      "outputs": [
        {
          "output_type": "stream",
          "text": [
            "7 <class 'int'>\n"
          ],
          "name": "stdout"
        }
      ]
    },
    {
      "cell_type": "code",
      "metadata": {
        "colab": {
          "base_uri": "https://localhost:8080/"
        },
        "id": "CtrwEmshUQ1Z",
        "outputId": "65608651-df91-45e6-b616-9088104a6c45"
      },
      "source": [
        "u=float(-6.7)\n",
        "print(u,type(u))\n",
        "\n",
        "b=float(7.6769)\n",
        "print(b,type(b))"
      ],
      "execution_count": 11,
      "outputs": [
        {
          "output_type": "stream",
          "text": [
            "-6.7 <class 'float'>\n",
            "7.6769 <class 'float'>\n"
          ],
          "name": "stdout"
        }
      ]
    },
    {
      "cell_type": "markdown",
      "metadata": {
        "id": "RQU3hYVcVJ2A"
      },
      "source": [
        "**Tipo cadena:**"
      ]
    },
    {
      "cell_type": "code",
      "metadata": {
        "colab": {
          "base_uri": "https://localhost:8080/"
        },
        "id": "YpOwao-GVNMl",
        "outputId": "1a712bf0-3a49-4009-f156-f1d683930827"
      },
      "source": [
        "d=\"Camila\"\n",
        "print(d)\n",
        "\n",
        "clase=\"Voy a clase de español\"\n",
        "print(clase)\n"
      ],
      "execution_count": 14,
      "outputs": [
        {
          "output_type": "stream",
          "text": [
            "Camila\n",
            "Voy a clase de español\n"
          ],
          "name": "stdout"
        }
      ]
    },
    {
      "cell_type": "code",
      "metadata": {
        "colab": {
          "base_uri": "https://localhost:8080/"
        },
        "id": "vJy7gwtMWAJb",
        "outputId": "fe6c59ba-dc5c-44fd-8a17-86b7b364023d"
      },
      "source": [
        "m=\"5.4\"\n",
        "t=\"2\"\n",
        "a=float(m)\n",
        "b=int(t)\n",
        "print(a-b)"
      ],
      "execution_count": 19,
      "outputs": [
        {
          "output_type": "stream",
          "text": [
            "3.4000000000000004\n"
          ],
          "name": "stdout"
        }
      ]
    },
    {
      "cell_type": "markdown",
      "metadata": {
        "id": "6Ms-Zg5bWvDk"
      },
      "source": [
        "**Tipo Booleano**"
      ]
    },
    {
      "cell_type": "code",
      "metadata": {
        "colab": {
          "base_uri": "https://localhost:8080/"
        },
        "id": "-gKnKPghW0Fa",
        "outputId": "a19ff9f1-f7cc-4fbc-b81b-e42d38407fec"
      },
      "source": [
        "caminar=True\n",
        "print(\"el valor es verdadero:\",caminar,\",el cual es de tipo\",type(caminar))"
      ],
      "execution_count": 21,
      "outputs": [
        {
          "output_type": "stream",
          "text": [
            "el valor es verdadero: True ,el cual es de tipo <class 'bool'>\n"
          ],
          "name": "stdout"
        }
      ]
    },
    {
      "cell_type": "code",
      "metadata": {
        "colab": {
          "base_uri": "https://localhost:8080/"
        },
        "id": "ET0fY888XEZE",
        "outputId": "c48211c0-b9f3-4a80-8464-c6b935534eed"
      },
      "source": [
        "g=False\n",
        "print(\"este valor es:\",g,\"el cual es de tipo\", type(g) )"
      ],
      "execution_count": 22,
      "outputs": [
        {
          "output_type": "stream",
          "text": [
            "este valor es: False el cual es de tipo <class 'bool'>\n"
          ],
          "name": "stdout"
        }
      ]
    },
    {
      "cell_type": "markdown",
      "metadata": {
        "id": "rKfwvdnHXdFh"
      },
      "source": [
        "**Tipo listas**\n",
        "\n",
        "---\n"
      ]
    },
    {
      "cell_type": "code",
      "metadata": {
        "colab": {
          "base_uri": "https://localhost:8080/"
        },
        "id": "qa1saWZAXbZG",
        "outputId": "7be7f8b6-7325-45d6-e27d-5a4458158624"
      },
      "source": [
        "frutas=['fresa','uva','manzana']\n",
        "print(frutas)\n",
        "fr=frutas[0:2]\n",
        "print(fr)"
      ],
      "execution_count": 24,
      "outputs": [
        {
          "output_type": "stream",
          "text": [
            "['fresa', 'uva', 'manzana']\n",
            "['fresa', 'uva']\n"
          ],
          "name": "stdout"
        }
      ]
    },
    {
      "cell_type": "code",
      "metadata": {
        "colab": {
          "base_uri": "https://localhost:8080/"
        },
        "id": "e6JX3P26X8R8",
        "outputId": "495494c4-9f9d-4eb6-9de6-73b5ad3fc660"
      },
      "source": [
        "muebles=['mesa','cama','closet','sofa']\n",
        "print(muebles)\n",
        "th=muebles[0:3]\n",
        "print(th)"
      ],
      "execution_count": 29,
      "outputs": [
        {
          "output_type": "stream",
          "text": [
            "['mesa', 'cama', 'closet', 'sofa']\n",
            "['mesa', 'cama', 'closet']\n"
          ],
          "name": "stdout"
        }
      ]
    },
    {
      "cell_type": "markdown",
      "metadata": {
        "id": "0SIebnYFYuox"
      },
      "source": [
        "**Tipo Tuplas**"
      ]
    },
    {
      "cell_type": "code",
      "metadata": {
        "colab": {
          "base_uri": "https://localhost:8080/"
        },
        "id": "22C2yUG_YyE8",
        "outputId": "5c0dffda-1f7e-4737-f508-401461eb1785"
      },
      "source": [
        "num=3,28,'5'\n",
        "print(num)\n",
        "a=num,('casa')\n",
        "print(a)"
      ],
      "execution_count": 32,
      "outputs": [
        {
          "output_type": "stream",
          "text": [
            "(3, 28, '5')\n",
            "((3, 28, '5'), 'casa')\n"
          ],
          "name": "stdout"
        }
      ]
    },
    {
      "cell_type": "markdown",
      "metadata": {
        "id": "Vr8d5uz_Zrz6"
      },
      "source": [
        "**Diccionarios**"
      ]
    },
    {
      "cell_type": "code",
      "metadata": {
        "colab": {
          "base_uri": "https://localhost:8080/"
        },
        "id": "5VZR1sxkZvoD",
        "outputId": "68cf84c4-1643-41d6-90fa-28dd7aeddef5"
      },
      "source": [
        "ropa={}\n",
        "ropa[\"interior\"]='boxer','panty'\n",
        "ropa[\"exterior\"]='saco','pantalón'\n",
        "print(ropa)\n",
        "vestir=ropa[\"interior\"]+ropa[\"exterior\"]\n",
        "print(vestir)"
      ],
      "execution_count": 39,
      "outputs": [
        {
          "output_type": "stream",
          "text": [
            "{'interior': ('boxer', 'panty'), 'exterior': ('saco', 'pantalón')}\n",
            "('boxer', 'panty', 'saco', 'pantalón')\n"
          ],
          "name": "stdout"
        }
      ]
    }
  ]
}