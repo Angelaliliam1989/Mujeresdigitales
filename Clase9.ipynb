{
  "nbformat": 4,
  "nbformat_minor": 0,
  "metadata": {
    "colab": {
      "name": "Clase9.ipynb",
      "private_outputs": true,
      "provenance": [],
      "authorship_tag": "ABX9TyOAazAp8ZpEC/TqNCOAMpma",
      "include_colab_link": true
    },
    "kernelspec": {
      "name": "python3",
      "display_name": "Python 3"
    },
    "language_info": {
      "name": "python"
    }
  },
  "cells": [
    {
      "cell_type": "markdown",
      "metadata": {
        "id": "view-in-github",
        "colab_type": "text"
      },
      "source": [
        "<a href=\"https://colab.research.google.com/github/Angelaliliam1989/Mujeresdigitales/blob/main/Clase9.ipynb\" target=\"_parent\"><img src=\"https://colab.research.google.com/assets/colab-badge.svg\" alt=\"Open In Colab\"/></a>"
      ]
    },
    {
      "cell_type": "code",
      "metadata": {
        "id": "AmxsfI0qY3eI"
      },
      "source": [
        "import pandas as pd"
      ],
      "execution_count": null,
      "outputs": []
    },
    {
      "cell_type": "code",
      "metadata": {
        "id": "Q3irrQCtb6jI"
      },
      "source": [
        "pd.Series([145,30,677])"
      ],
      "execution_count": null,
      "outputs": []
    },
    {
      "cell_type": "code",
      "metadata": {
        "id": "r8rD16RecU9N"
      },
      "source": [
        "pd.Series(['a','b','c'])"
      ],
      "execution_count": null,
      "outputs": []
    },
    {
      "cell_type": "code",
      "metadata": {
        "id": "GgbNugUDaju_"
      },
      "source": [
        "david= pd.Series([145,30,677],name='counts')\n",
        "print(type(david))\n",
        "david\n"
      ],
      "execution_count": null,
      "outputs": []
    },
    {
      "cell_type": "code",
      "metadata": {
        "id": "JrGT7P5DezMd"
      },
      "source": [
        "print(type(david.values))"
      ],
      "execution_count": null,
      "outputs": []
    },
    {
      "cell_type": "code",
      "metadata": {
        "id": "ODcsyx6Oa8Aw"
      },
      "source": [
        "print(david.index)\n",
        "print(david.values)"
      ],
      "execution_count": null,
      "outputs": []
    },
    {
      "cell_type": "code",
      "metadata": {
        "id": "cK1H-bZbfRAt"
      },
      "source": [
        "#El indice no necesariamente debe ser un numero\n",
        "david3=pd.Series([145,30,677],name='counts',\\\n",
        "                  index=['Juan','Pedro','Sofia'])\n",
        "print(david3)\n",
        "print('----')\n",
        "print(david3.values)\n",
        "print('----')\n",
        "print(david3.index)"
      ],
      "execution_count": null,
      "outputs": []
    },
    {
      "cell_type": "code",
      "metadata": {
        "id": "XLXA_H0RhQD8"
      },
      "source": [
        "#tambien puede albergar diferentes objetos\n",
        "class J:\n",
        "  pass\n",
        "pedro = pd.Series(['David','Fran', 13, J()],\\\n",
        "                  name='JJ')\n",
        "pedro"
      ],
      "execution_count": null,
      "outputs": []
    },
    {
      "cell_type": "code",
      "metadata": {
        "id": "G9xjP4y4iEew"
      },
      "source": [
        "# y que hay de los nulos\n",
        "nan_ser = pd.Series([2,None],index=['0','c'])\n",
        "print(nan_ser)\n",
        "'''\n",
        "Fijarse que aparece float y que es porque los NAN solo pueden estar\n",
        "en este tipo de dato'''\n",
        "nan_ser.count()"
      ],
      "execution_count": null,
      "outputs": []
    },
    {
      "cell_type": "code",
      "metadata": {
        "id": "cwQCEvAzmHwn"
      },
      "source": [
        "import pandas as pd\n"
      ],
      "execution_count": null,
      "outputs": []
    },
    {
      "cell_type": "code",
      "metadata": {
        "id": "z8JjM9GEmQbl"
      },
      "source": [
        "impares=pd.Series([3,5,7,9,11,13,15,17,19,21], index=['a','b','c','d','e','f','g','h','i','k'])\n",
        "print(impares)      "
      ],
      "execution_count": null,
      "outputs": []
    },
    {
      "cell_type": "markdown",
      "metadata": {
        "id": "Oawy2zZ4jGUU"
      },
      "source": [
        "El objeto **Series** es mucho mas rapido, consume menos memoria y tiene mas metodos que una lista.\n",
        "Tambien tiene muchas similitudes con el Numpy array"
      ]
    },
    {
      "cell_type": "markdown",
      "metadata": {
        "id": "kkv5Src6jd30"
      },
      "source": [
        "Proceso CLAB (Creacion, lectura, actualizacion, borrado)"
      ]
    },
    {
      "cell_type": "code",
      "metadata": {
        "id": "h29mhy_YjakB"
      },
      "source": [
        ""
      ],
      "execution_count": null,
      "outputs": []
    }
  ]
}