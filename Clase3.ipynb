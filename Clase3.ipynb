{
  "nbformat": 4,
  "nbformat_minor": 0,
  "metadata": {
    "colab": {
      "name": "Clase3.ipynb",
      "private_outputs": true,
      "provenance": [],
      "authorship_tag": "ABX9TyP6FDdFsT3dN9pa9yTP3+NA",
      "include_colab_link": true
    },
    "kernelspec": {
      "name": "python3",
      "display_name": "Python 3"
    },
    "language_info": {
      "name": "python"
    }
  },
  "cells": [
    {
      "cell_type": "markdown",
      "metadata": {
        "id": "view-in-github",
        "colab_type": "text"
      },
      "source": [
        "<a href=\"https://colab.research.google.com/github/Angelaliliam1989/Mujeresdigitales/blob/main/Clase3.ipynb\" target=\"_parent\"><img src=\"https://colab.research.google.com/assets/colab-badge.svg\" alt=\"Open In Colab\"/></a>"
      ]
    },
    {
      "cell_type": "markdown",
      "metadata": {
        "id": "VbqFSgTA4rk2"
      },
      "source": [
        "**Estructura de Condicionales (control)**\n",
        "\n",
        "---\n",
        "Al momento de construir una instruccion de tipo condicional se debera comprender que dichas instrucciones estan diseñadas para ayudar en la toma de decisiones:\n",
        "\n",
        "Ejemplo:\n",
        "**Si** Pedro va a la tienda por la izquierda llegara mas rápido, sino demorará más.\n",
        "\n",
        "Existen varios tipos de instucciones, algunos pueden ser simples y otros multiples. Sin embargo, solo se general dos resultados.\n",
        "1. Verdadero\n",
        "2. Falso\n",
        "\n",
        "En Python tales resultados serian True o False."
      ]
    },
    {
      "cell_type": "markdown",
      "metadata": {
        "id": "F98zueLD6OYw"
      },
      "source": [
        "Para aolicar los codicionales que veremos a continuacion debemos recodar los comandos de operadores matematicos vistos en la clase anterior:\n",
        "\n",
        "1. Igualdad (==) //2==7// Falso\n",
        "2. Diferencia(!=) //Rosado!=verde//True\n",
        "3. Menor que (<) //12<11// False\n",
        "4. Mayor que (>) //1>1.5// False\n",
        "5. Menor o igual que (<=) //30<=30//True\n",
        "6. Mayor o igual que (>=) //1>=2// False"
      ]
    },
    {
      "cell_type": "markdown",
      "metadata": {
        "id": "DV5ILtGA7OJV"
      },
      "source": [
        "En condiciones multiples, podemos enlazar los operadores logicos:\n",
        "1. y(and)\n",
        "2. o(or)\n",
        "3. No (no)\n",
        "\n",
        "Ejemplos:\n",
        "\n",
        "---\n",
        "1. 3==8 and 8>2//False\n",
        "2. 3==3 or 15<3//Tue\n",
        "3. not True// False"
      ]
    },
    {
      "cell_type": "markdown",
      "metadata": {
        "id": "uawCFzx577Z0"
      },
      "source": [
        "Para aplicar los operadores matematicos y logicos tenemos en cuenta lo que llamamos **Diagrama de flujos**, esto nos permite mayor organización de las ideas para la toma de decisiones.\n"
      ]
    },
    {
      "cell_type": "markdown",
      "metadata": {
        "id": "0S9-ynZ58MhH"
      },
      "source": [
        "**El comando IF**\n",
        "\n",
        "---\n",
        "Este comando permite evaluar si  una sentencia es verdadera o falsa. Es decir, que ejecuta una accion establecida mediante un codigo de instruccion o varias instrucciones inmediatamente en las lineas siguientes de dicha condición.\n",
        "\n"
      ]
    },
    {
      "cell_type": "code",
      "metadata": {
        "id": "oPtS84D6HzUn"
      },
      "source": [
        "num =input('Escribir un número cualquiera')"
      ],
      "execution_count": null,
      "outputs": []
    },
    {
      "cell_type": "markdown",
      "metadata": {
        "id": "O31i-yd3CarH"
      },
      "source": [
        "**El comando ELSE**\n",
        "\n",
        "---\n",
        "En español es conocido como \"si no\". Este comando permite relacionar las acciones que deberia realizar en caso de que la\n"
      ]
    },
    {
      "cell_type": "code",
      "metadata": {
        "id": "EKDhh3NrCry0"
      },
      "source": [
        "num =int(input('Escribir un numero cualquiera'))\n",
        "if num == 200:\n",
        "  print(\"escribiste el 200\")\n",
        "else:\n",
        "  print(\"El numero escrito NO ES 200\")"
      ],
      "execution_count": null,
      "outputs": []
    },
    {
      "cell_type": "markdown",
      "metadata": {
        "id": "VC1V6BVkD2Ff"
      },
      "source": [
        "**El comando ELIF**=**else If**\n",
        "\n",
        "---\n",
        "Significa \"sino, si\" y permite concatenar condiciones:\n"
      ]
    },
    {
      "cell_type": "code",
      "metadata": {
        "id": "2-0xvkAKEDl2"
      },
      "source": [
        "num =int(input('Escribir un numero cualquiera'))\n",
        "if num == 200:\n",
        "  print(\"escribiste el 200\")\n",
        "elif num>200:\n",
        "    print(\"el numero escrito es MAYOR a 200\")\n",
        "else:\n",
        "  print(\"El numero escrito NO ES 200\")"
      ],
      "execution_count": null,
      "outputs": []
    },
    {
      "cell_type": "markdown",
      "metadata": {
        "id": "jZWeW9pKH0wo"
      },
      "source": [
        "**Condicionales multiples**\n",
        "\n",
        "---\n",
        "Cuando se presentan situaciones con mas de una condicio que dependen unas de otras, estas se pueden tratar mediante el manejo de varias \n",
        "\n",
        "\n"
      ]
    },
    {
      "cell_type": "code",
      "metadata": {
        "id": "6ymYYpJvIjlm"
      },
      "source": [
        "x=int(input(\"valor\"))\n",
        "if 0<x:\n",
        "  if x<10:\n",
        "    print(\"x es un numero positivo\")"
      ],
      "execution_count": null,
      "outputs": []
    },
    {
      "cell_type": "code",
      "metadata": {
        "id": "__CoHC4IJ_U8"
      },
      "source": [
        "x=int(input(\"valor\"))\n",
        "if 0<x and x<10:\n",
        "  print(\"x es numero de un solo digito\")"
      ],
      "execution_count": null,
      "outputs": []
    },
    {
      "cell_type": "code",
      "metadata": {
        "id": "LmY7Tn7JKTTW"
      },
      "source": [
        "x=int(input(\"valor\"))\n",
        "if 0<x<10:\n",
        "  print(\"x es un numero de un solo digito\")"
      ],
      "execution_count": null,
      "outputs": []
    },
    {
      "cell_type": "markdown",
      "metadata": {
        "id": "59LuaWOILMyb"
      },
      "source": [
        "Esta condicion es la misma expresion booleana compuesta y la misma expresion condicional anidada"
      ]
    }
  ]
}