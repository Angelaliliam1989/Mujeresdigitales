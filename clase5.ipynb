{
  "nbformat": 4,
  "nbformat_minor": 0,
  "metadata": {
    "colab": {
      "name": "clase5.ipynb",
      "private_outputs": true,
      "provenance": [],
      "authorship_tag": "ABX9TyPZmblZDp74r2wBBiNSXxPB",
      "include_colab_link": true
    },
    "kernelspec": {
      "name": "python3",
      "display_name": "Python 3"
    },
    "language_info": {
      "name": "python"
    }
  },
  "cells": [
    {
      "cell_type": "markdown",
      "metadata": {
        "id": "view-in-github",
        "colab_type": "text"
      },
      "source": [
        "<a href=\"https://colab.research.google.com/github/Angelaliliam1989/Mujeresdigitales/blob/main/clase5.ipynb\" target=\"_parent\"><img src=\"https://colab.research.google.com/assets/colab-badge.svg\" alt=\"Open In Colab\"/></a>"
      ]
    },
    {
      "cell_type": "markdown",
      "metadata": {
        "id": "NJB8KsJ6peA6"
      },
      "source": [
        "**Continuacion de ciclos**\n",
        "\n",
        "---\n",
        "**Ciclo FOR - Bucle FOR**\n",
        "\n",
        "\n"
      ]
    },
    {
      "cell_type": "code",
      "metadata": {
        "id": "zlnWS3NxpsL6"
      },
      "source": [
        "for i in range(1,5):\n",
        "  print(i)"
      ],
      "execution_count": null,
      "outputs": []
    },
    {
      "cell_type": "markdown",
      "metadata": {
        "id": "gCj2iqWep9Bf"
      },
      "source": [
        "Para dejar claro las partes que componen el bucle FOR, vamos a dejar claro las siguientes definiciones:\n",
        "\n",
        "1. **Iterable:** Como los objetos que pueden ser iterados.\n",
        "valor tipo cadena, etc.\n",
        "2. **Iterador:** Son objetos que hacen referencia a un elemento (para hacer referencia a cada uno de los elementos hay un metodo denominado \"next\" que permite hacer referencia a los elementos del conjunto.\n",
        "\n",
        "**for <variable> in <iterable>: \n",
        "    <Bloque de codigo>\n",
        "\n",
        "Algunos ejemlos de iterables en Python son las listas, cadenas, diccionarios, tuplas, etc.\n",
        "\n",
        "¿Cómo saber que es iterable a  la hora de programar?\n",
        "Podemos darnos cuenta que es iterable usando la funcion isisnstance().\n",
        "\n",
        "\n"
      ]
    },
    {
      "cell_type": "code",
      "metadata": {
        "id": "a8zeEgcYr6R-"
      },
      "source": [
        "from collections import Iterable #paquete de collection (Phyton 3.7) Kener\n",
        "lista=[1,2,3,4,5,6]\n",
        "a=\"computador\"\n",
        "b=14\n",
        "print(isinstance(lista,Iterable))\n",
        "print(isinstance(a,Iterable))\n",
        "print(isinstance(b,Iterable))"
      ],
      "execution_count": null,
      "outputs": []
    },
    {
      "cell_type": "code",
      "metadata": {
        "id": "SxHedA7rvVyH"
      },
      "source": [
        "a=30\n",
        "for i in a:\n",
        "  print(i)"
      ],
      "execution_count": null,
      "outputs": []
    },
    {
      "cell_type": "markdown",
      "metadata": {
        "id": "UjXZ3bhSv9FR"
      },
      "source": [
        "Para entender los iteradores, es importante conocer la funcion \"iter()\", esta funcion puede ser llamada sobre un objeto que sea iterable, y nos devolvera un iterador\n",
        "\n",
        "Ejemplo:"
      ]
    },
    {
      "cell_type": "code",
      "metadata": {
        "id": "y6VL_4R0wAUC"
      },
      "source": [
        "lista=[1,2,3,4,5,6]\n",
        "ref=iter(lista)\n",
        "print(ref)\n",
        "print(type(ref))"
      ],
      "execution_count": null,
      "outputs": []
    },
    {
      "cell_type": "markdown",
      "metadata": {
        "id": "KToYq3AdwXXL"
      },
      "source": [
        "Al imprimir Ref es un iterador, de la clase \"list_iterator\". Hace referencia a la lista original y nos permite acceder a sus elementos con la funcion \"next(). Cada vez que llamemos a nex() sobre Ref, nos devuelve el siguiente elemento de la lista original.\n",
        "Por ejemplo quiero acceder al elemento 7, tendremos que llamar 7 veces a next"
      ]
    },
    {
      "cell_type": "code",
      "metadata": {
        "id": "OOrLLq9dwnpz"
      },
      "source": [
        "lista=[1,2,3,4,5,6,7,8,9,0]\n",
        "ref=iter(lista)\n",
        "print(next(ref))\n",
        "print(next(ref))\n",
        "print(next(ref))\n",
        "print(next(ref))\n",
        "print(next(ref))\n",
        "print(next(ref))\n",
        "print(next(ref))"
      ],
      "execution_count": null,
      "outputs": []
    },
    {
      "cell_type": "markdown",
      "metadata": {
        "id": "3W06RKfqxYlD"
      },
      "source": [
        "**Tener en cuenta**\n",
        "Existen otros iteradores para las diferentes clases:\n",
        "1. Str_iterator para cadena\n",
        "2. list_iterator para listas\n",
        "3. Set_iterator para conjuntos\n",
        "4. dick_keyiterator para diccionarios"
      ]
    },
    {
      "cell_type": "markdown",
      "metadata": {
        "id": "ohZ5szl0yE7P"
      },
      "source": [
        "**for anidados**\n",
        "\n",
        "---\n",
        "Es poible anidar los , es deci ingresar uno dentro de otro. Como lo veremos a continuacion.\n",
        "\n"
      ]
    },
    {
      "cell_type": "markdown",
      "metadata": {
        "id": "jUHsC5yjzUVE"
      },
      "source": [
        "Si quereos acceder a cada elemento individualmente, se procede a realizar un bucle de FOR anidado. Es decir, un for se encarga de iterar las columnas y el otro las filas."
      ]
    },
    {
      "cell_type": "code",
      "metadata": {
        "id": "ugHcteZkyET2"
      },
      "source": [
        "#vamos a crear una lista de listas, lo cual conforma una especie de matriz\n",
        "#recordemos que una matriz se compone de valores que se distribuyen en filas y columnas\n",
        "qa=[[1,2,3],\n",
        "    [4,5,6],\n",
        "    [7,8,9]]\n",
        "\n",
        "for i in qa:\n",
        "  print(i)\n",
        "\n",
        "for i in qa:\n",
        " for j in i:\n",
        "  print(j)"
      ],
      "execution_count": null,
      "outputs": []
    },
    {
      "cell_type": "code",
      "metadata": {
        "id": "jvWbvpgyz0tS"
      },
      "source": [
        "#otra forma de utilizar el For. Es la iteracion al reves. Es deci se puede iterar la lista desde el ultimo al primer elemento\n",
        "lista=[1,2,3,4,5,6,7,8,9,0]\n",
        "for i in lista[::-1]:\n",
        "  print(i)"
      ],
      "execution_count": null,
      "outputs": []
    },
    {
      "cell_type": "code",
      "metadata": {
        "id": "6dDHX5Te0spi"
      },
      "source": [
        "lista=[1,2,3,4,5,6,7,8,9,0]\n",
        "for i in lista[::2]:\n",
        "  print(i)\n",
        "print(\"------------\")\n",
        "a=\"computador\"\n",
        "for i in a[::4]:\n",
        "  print(i)"
      ],
      "execution_count": null,
      "outputs": []
    },
    {
      "cell_type": "code",
      "metadata": {
        "id": "o4e_N1521sW0"
      },
      "source": [
        "#usando rangos \n",
        "for i in range(10):\n",
        "  print(i)\n",
        "\n",
        "#El range ()genera una secuencia de numetros que van desde 0 por defecto\n",
        "#"
      ],
      "execution_count": null,
      "outputs": []
    },
    {
      "cell_type": "markdown",
      "metadata": {
        "id": "_AaKKSvN3YH2"
      },
      "source": [
        "**Listas de compresión**\n",
        "\n",
        "---\n",
        "Estas nos permiten crear listas de elementos en una sola linea de codigo.\n",
        "Ejempli: crear una lista de las potencias a la 3 de los numeros impares de 0 a 9\n"
      ]
    },
    {
      "cell_type": "code",
      "metadata": {
        "id": "MLLacabh2q6G"
      },
      "source": [
        "tres=[i**3 for i in range(1,10,2)]\n",
        "#0,1,3,5,7,9\n",
        "print(tres)\n",
        "\n",
        "tres=[]\n",
        "for i in range(1,10,2):\n",
        "  tres.append(i**3)\n",
        "  print(tres)"
      ],
      "execution_count": null,
      "outputs": []
    },
    {
      "cell_type": "code",
      "metadata": {
        "id": "w6kS46-Z58t1"
      },
      "source": [
        "s=[1 for i in range(10)]\n",
        "print(s)\n"
      ],
      "execution_count": null,
      "outputs": []
    },
    {
      "cell_type": "code",
      "metadata": {
        "id": "PdG4IX2k6Ucd"
      },
      "source": [
        "lwa=[5,10,15,20,25,30]\n",
        "lwa2=[i/5 for i in lwa]\n",
        "print(lwa2)"
      ],
      "execution_count": null,
      "outputs": []
    },
    {
      "cell_type": "code",
      "metadata": {
        "id": "pnOwwlDs64N-"
      },
      "source": [
        "pera=\"mama ama a ema\"\n",
        "pera2=[i for i  in pera if i=='m']\n",
        "print(pera2)\n",
        "\n",
        "print(len(pera2))"
      ],
      "execution_count": null,
      "outputs": []
    }
  ]
}