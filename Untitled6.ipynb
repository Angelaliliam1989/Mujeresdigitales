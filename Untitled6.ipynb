{
  "nbformat": 4,
  "nbformat_minor": 0,
  "metadata": {
    "colab": {
      "name": "Untitled6.ipynb",
      "private_outputs": true,
      "provenance": [],
      "authorship_tag": "ABX9TyPTn8xSeq2OW+2THjGlnqgi",
      "include_colab_link": true
    },
    "kernelspec": {
      "name": "python3",
      "display_name": "Python 3"
    },
    "language_info": {
      "name": "python"
    }
  },
  "cells": [
    {
      "cell_type": "markdown",
      "metadata": {
        "id": "view-in-github",
        "colab_type": "text"
      },
      "source": [
        "<a href=\"https://colab.research.google.com/github/Angelaliliam1989/Mujeresdigitales/blob/main/Untitled6.ipynb\" target=\"_parent\"><img src=\"https://colab.research.google.com/assets/colab-badge.svg\" alt=\"Open In Colab\"/></a>"
      ]
    },
    {
      "cell_type": "markdown",
      "metadata": {
        "id": "lVq12oafpAjY"
      },
      "source": [
        "\n",
        "\n",
        "\n",
        "\n",
        "la unica diferencia es que se usa los {}.\n",
        "\n",
        "Recordemos que los conjuntos tambien denominados \"sets\" no permiten duplicados. Es decir cada elemnto es unico. Si se llega añadir un elemento repetido, no arrojara error per"
      ]
    },
    {
      "cell_type": "code",
      "metadata": {
        "id": "BR6d8VYNo2D8"
      },
      "source": [
        "sa=\"ema ama a mama\"\n",
        "sa2=[i for i in sa if i==\"m\"]\n",
        "print(sa2)\n",
        "\n",
        "\n",
        "sa=\"ema ama a mama\"\n",
        "sa2={i for i in sa if i==\"m\"}\n",
        "print(sa2)"
      ],
      "execution_count": null,
      "outputs": []
    },
    {
      "cell_type": "markdown",
      "metadata": {
        "id": "TzfWSZzkqryr"
      },
      "source": [
        "Ahora, veamos a continuacion el caso de diccionarios de cmprension. La unica diferemncia que tiene respecto a las listas o conjuntos es la especificacion de llaves"
      ]
    },
    {
      "cell_type": "code",
      "metadata": {
        "id": "Js1jz2LTqbfo"
      },
      "source": [
        "lista1=['nombre','apellido','ciudad']\n",
        "lista2= ['Ana','Rodriguez','Popayan']\n",
        "\n",
        "dic={i:j for i,j in zip(lista1,lista2)}\n",
        "print(dic)"
      ],
      "execution_count": null,
      "outputs": []
    },
    {
      "cell_type": "markdown",
      "metadata": {
        "id": "ZddiZ4BKr0ld"
      },
      "source": [
        "Pudimos observar que añadiendo : asignamos  un valor a la llave declarada a su vez, usamos zip() el cual tiene como funcion iterar dos listas en paralelo. Es decir, con zip podemos convertir dos listas rn un diccionario y el for se manejaria iterando los valores en simultaneo."
      ]
    },
    {
      "cell_type": "markdown",
      "metadata": {
        "id": "Gm-an4IqsgUF"
      },
      "source": [
        "**OTRAS ESTRUCTURAS DE CONTROL**\n",
        "\n",
        "---\n",
        "\n",
        "1. Swith\n",
        "2. Brak\n",
        "3. Continue\n",
        "4. Complemento de iteracion (Enumerate).\n",
        "\n",
        "**1. Swith**\n",
        "Es una herramienta que permite ejecutar diferentes secciones de codigo dependiendo de las condiciones impuestas. Su funcion es muy similar a usar if anidados o varios por separado al mismo tiempo.\n",
        "\n",
        "Sin embargo en python no hay u n swith directo.\n",
        "\n",
        "**2. Break**\n",
        "Nos permiten alterar el comportamiento de los ciclos de whilr y for. Directamente su funcion es la de finalizar los ciclos"
      ]
    },
    {
      "cell_type": "code",
      "metadata": {
        "id": "rLqYfq3Zss0h"
      },
      "source": [
        "x=\"Andrea\"\n",
        "for i in x:\n",
        "  if i== \"e\":\n",
        "    print(\"se obtuvo la letra e\")\n",
        "    break\n",
        "  print(i)"
      ],
      "execution_count": null,
      "outputs": []
    },
    {
      "cell_type": "code",
      "metadata": {
        "id": "VOSfLMH8u6OH"
      },
      "source": [
        "x=15\n",
        "while True:\n",
        "  x -=1\n",
        "  print(x)\n",
        "  if x==0:\n",
        "    break\n",
        "  print(\"Se finaliza ciclo\")"
      ],
      "execution_count": null,
      "outputs": []
    },
    {
      "cell_type": "code",
      "metadata": {
        "id": "VGsri9etwJ1h"
      },
      "source": [
        "## uso de break con los ciclos anidados:\n",
        "\n",
        "for i in range(1,8):\n",
        "  for j in range(1,8):\n",
        "    break\n",
        "  print (i,j)\n",
        "\n",
        "#el break no afecta el for exterior. Rompe el ciclo anidad en su conjunto,\n",
        "#pero no afecta directamente"
      ],
      "execution_count": null,
      "outputs": []
    },
    {
      "cell_type": "markdown",
      "metadata": {
        "id": "yQHf_a0YxvTK"
      },
      "source": [
        "**2. CONTINUE**\n",
        "\n",
        "---\n",
        "El \"continue\" se salta todo el codigo restante en la iteracion actual y vuelve al principio en caso de que falten elementos por iterar.\n",
        "Diferencias entre break y continue:\n",
        "La principal diferencia es que contiene no rompe   si no que pasa a la iteracion pendiente. \n"
      ]
    },
    {
      "cell_type": "code",
      "metadata": {
        "id": "ofNIAjQ3yYfe"
      },
      "source": [
        "x=\"Andrea\"\n",
        "for i in x:\n",
        "  if i==\"r\":\n",
        "    continue\n",
        "  print(i)\n"
      ],
      "execution_count": null,
      "outputs": []
    },
    {
      "cell_type": "code",
      "metadata": {
        "id": "VOuBm9WryvjI"
      },
      "source": [
        "x=15\n",
        "while x>0:\n",
        "  x -=1\n",
        "  if x==3:\n",
        "    continue\n",
        "  print(x)"
      ],
      "execution_count": null,
      "outputs": []
    },
    {
      "cell_type": "markdown",
      "metadata": {
        "id": "LIqqedqkzVfy"
      },
      "source": [
        "**Iterar con enumerate**\n",
        "\n",
        "---\n",
        "Python nos permite iterar colecciones de objetos y elementos de la misma forma.Sin embargo hay una opcion que es que en algunas situaciones que queramos acceder a un elemento ordenado podemos hacerlo nombrando el indice de cada elemento llamado\n"
      ]
    },
    {
      "cell_type": "code",
      "metadata": {
        "id": "pOizC7FDz30t"
      },
      "source": [
        "w=[\"sa\", \"se\", \"si\", \"so\", \"su\"]\n",
        "indice=1\n",
        "for i in w:\n",
        "  print(indice,i)\n",
        "  indice +=1"
      ],
      "execution_count": null,
      "outputs": []
    },
    {
      "cell_type": "code",
      "metadata": {
        "id": "HHMWYjJbzUj9"
      },
      "source": [
        "w=[\"sa\", \"se\", \"si\", \"so\", \"su\"]\n",
        "for indice, i in enumerate(w):\n",
        "  print(indice,i)\n",
        "\n",
        "x=list(enumerate(w))\n",
        "print(x)"
      ],
      "execution_count": null,
      "outputs": []
    },
    {
      "cell_type": "markdown",
      "metadata": {
        "id": "TzpT62AE1fsO"
      },
      "source": [
        "**Uso zip()**\n",
        "\n",
        "---\n",
        "Si pasamos dos listas a zip, el resultado sera una tupla donde cada elemento tendra todos \n",
        "\n"
      ]
    },
    {
      "cell_type": "code",
      "metadata": {
        "id": "uKP8nnu_1eR8"
      },
      "source": [
        "a=[1,2,3]\n",
        "b=[\"a\",\"b\",\"c\"]\n",
        "x=(\"q\",\"w\",\"e\")\n",
        "z=(10,20,30)\n",
        "c=zip(a,b)\n",
        "print(list(c))\n",
        "\n",
        "\n",
        "for i, j, l, m in zip(a,b,x,z):\n",
        "  print(i, j, l, m,)"
      ],
      "execution_count": null,
      "outputs": []
    },
    {
      "cell_type": "code",
      "metadata": {
        "id": "XX0hoVb04Dcc"
      },
      "source": [
        "a=[1,2,3]\n",
        "b=[\"a\",\"b\"]\n",
        "\n",
        "for sa, se in zip(a,b):\n",
        "  print(sa,se)"
      ],
      "execution_count": null,
      "outputs": []
    },
    {
      "cell_type": "code",
      "metadata": {
        "id": "jrjY1FpA4sKn"
      },
      "source": [
        "c=[(1,'a'), (2,'b'), (3,'c')]\n",
        "a,b=zip(*c)\n",
        "print(a)\n",
        "print(b)\n"
      ],
      "execution_count": null,
      "outputs": []
    },
    {
      "cell_type": "markdown",
      "metadata": {
        "id": "SHt6SPNY5-ID"
      },
      "source": [
        "**FUNCIONES**\n",
        "\n",
        "---\n",
        "La funcion nos permite ordenar de manera adecuada la genracion de objetos y bloques por codigos de ciclos y demas estructuta.\n",
        "\n",
        "La sintaxis es la siguiente:\n",
        "\n",
        "def nombre_funcion(argumentos):\n",
        "  codigo\n",
        "\n",
        "nombre_funcion(argumentos2)\n",
        "\n"
      ]
    },
    {
      "cell_type": "code",
      "metadata": {
        "id": "NindyWzk6rYz"
      },
      "source": [
        "def f(a):\n",
        "  return 2*a\n",
        "y=f(3)\n",
        "print(y)"
      ],
      "execution_count": null,
      "outputs": []
    },
    {
      "cell_type": "markdown",
      "metadata": {
        "id": "xSqo1oUu7iYK"
      },
      "source": [
        "Las funciones no solo realizan una operacion con sus entradas(argumentos de inicio). Sino tambien parten de los siguientes principios:\n",
        "\n",
        "**1. Reusabilidad:** Si tenemos un freegmento de codigo usado en muchos sitios y se guarda en una funcion . Nos evitara tener codigos repetidos, ademas de la conveniencia que tiene por ser facilmente editable.\n",
        "\n",
        "**2.Modularidad** Permite legibilidad de forma mas sencilla, es decir, los largos bloques de codigo se pueden agrupar en modulos o funciones y la letura va a ser mucho mas sencilla"
      ]
    },
    {
      "cell_type": "code",
      "metadata": {
        "id": "za4cklIy8s4V"
      },
      "source": [
        "#ejemplo 1: Funcion con argumentos de entrada ni parametros de salida:\n",
        "\n",
        "def s(): #Declaracion de funcion\n",
        "  print(\"hi luisa\")\n",
        "\n",
        "s()#Al cerrar la definicion de funcion me va aparecer la ejecucion de cod:"
      ],
      "execution_count": null,
      "outputs": []
    },
    {
      "cell_type": "code",
      "metadata": {
        "id": "BkpeFy8P9P_5"
      },
      "source": [
        "#ejemplo2. Incluir los argumentos de entrada\n",
        "\n",
        "def s(apellido):\n",
        "  print(\"Hi Luisa\", apellido)\n",
        "s(\"Varon\")"
      ],
      "execution_count": null,
      "outputs": []
    },
    {
      "cell_type": "code",
      "metadata": {
        "id": "Q5pnHlA99y4q"
      },
      "source": [
        "#ejemplo 3. Usando dos arguments de entrada y salidad y operacion matematica \n",
        "\n",
        "def suma(a,b):\n",
        "  return a+b\n",
        "suma(3,5)"
      ],
      "execution_count": null,
      "outputs": []
    },
    {
      "cell_type": "code",
      "metadata": {
        "id": "0OIG8BoP_BjG"
      },
      "source": [
        "#ejemplo4. Reusabilidad de codigo\n",
        "dog(a=4,b=20)\n"
      ],
      "execution_count": null,
      "outputs": []
    },
    {
      "cell_type": "code",
      "metadata": {
        "id": "JW6O1RFX_Xoq"
      },
      "source": [
        "#ejemplo 5. Argumentos fijos desde el inicio\n",
        "\n",
        "def suma(a,b,c,d=1):##correccion default\n",
        "  return a+b+c+d\n",
        "suma(2,3,4,2)\n",
        "\n",
        "suma(1,2)"
      ],
      "execution_count": null,
      "outputs": []
    },
    {
      "cell_type": "code",
      "metadata": {
        "id": "xWo82XzXAfwu"
      },
      "source": [
        "suma(2,3,3,4)"
      ],
      "execution_count": null,
      "outputs": []
    },
    {
      "cell_type": "code",
      "metadata": {
        "id": "RHnedcq_AuIg"
      },
      "source": [
        "def suma(a=2,b=3,c=4,d=5):\n",
        "  return a+b+c+d\n",
        "suma()\n",
        "\n",
        "suma(1)\n",
        "suma(a=1, b=5)\n"
      ],
      "execution_count": null,
      "outputs": []
    },
    {
      "cell_type": "code",
      "metadata": {
        "id": "Eu5tk3b4Bny3"
      },
      "source": [
        "#Ejemplo de longitud variable\n",
        "\n",
        "def suma(number):\n",
        "  total=0\n",
        "  for  i in number:\n",
        "    total +=i\n",
        "    return total\n",
        "  suma([1,3,5,4])"
      ],
      "execution_count": null,
      "outputs": []
    },
    {
      "cell_type": "markdown",
      "metadata": {
        "id": "2bFxv5qQC4DK"
      },
      "source": [
        "Se realizo la suma de todos los numeros de entrada. Para ello la declaracion de los argumentos de slidad sia como una lista\n",
        "\n",
        "la forma desintxzis anterior es valida,sin embargo,tenemosun solo argumento que es una listA de numeros\n",
        "\n",
        "si declaramos un argumentocon*, esto hara que el argumento guadado cmo tupla de manera automatica."
      ]
    },
    {
      "cell_type": "code",
      "metadata": {
        "id": "gCNYT7V8D0y5"
      },
      "source": [
        "def suma(*number):\n",
        "  print(type(number))\n",
        "  total=0\n",
        "  for i in number:\n",
        "    total+=i\n",
        "  return total\n",
        "suma(2,3,5,4)"
      ],
      "execution_count": null,
      "outputs": []
    },
    {
      "cell_type": "markdown",
      "metadata": {
        "id": "UQulz2lc8rBj"
      },
      "source": [
        "\n"
      ]
    }
  ]
}