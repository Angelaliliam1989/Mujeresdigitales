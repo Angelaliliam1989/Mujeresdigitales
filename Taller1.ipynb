{
  "nbformat": 4,
  "nbformat_minor": 0,
  "metadata": {
    "colab": {
      "name": "Taller1.ipynb",
      "private_outputs": true,
      "provenance": [],
      "authorship_tag": "ABX9TyOu1FjxMt4DGtayzsR+A7gr",
      "include_colab_link": true
    },
    "kernelspec": {
      "name": "python3",
      "display_name": "Python 3"
    },
    "language_info": {
      "name": "python"
    }
  },
  "cells": [
    {
      "cell_type": "markdown",
      "metadata": {
        "id": "view-in-github",
        "colab_type": "text"
      },
      "source": [
        "<a href=\"https://colab.research.google.com/github/Angelaliliam1989/Mujeresdigitales/blob/main/Taller1.ipynb\" target=\"_parent\"><img src=\"https://colab.research.google.com/assets/colab-badge.svg\" alt=\"Open In Colab\"/></a>"
      ]
    },
    {
      "cell_type": "code",
      "metadata": {
        "id": "-Z-o7LZ01g_Z"
      },
      "source": [
        "\n",
        "estudiante:input(\"Nombre del estudiante:\",)\n",
        "tareas =float(input(\"Tareas:\",))\n",
        "talleres=float(input(\"Talleres:\",))\n",
        "asistencia=float(input(\"Asistencia:\",))\n",
        "participacion=float(input(\"Participación:\",))\n",
        "\n",
        "nota1=tareas*0.1\n",
        "nota2=talleres*0.25\n",
        "nota3=asistencia*0.5\n",
        "nota4=participacion*0.15\n",
        "\n",
        "notap=nota1+nota2+nota3+nota4\n",
        "nota5=(3.7-notap)/0.45\n",
        "if nota5>=5.0:\n",
        "  print(\"saca menos de 3.7 en el curso\")\n",
        "else:\n",
        "  print(\"para sacar minimo 3.7 en el curso, el estudiante debe sacar en el proyecto como minimo\",round(nota5,2))\n",
        "\n",
        "\n",
        "\n",
        "\n",
        "\n"
      ],
      "execution_count": null,
      "outputs": []
    },
    {
      "cell_type": "code",
      "metadata": {
        "id": "rXZCpB3OO0x0"
      },
      "source": [
        "estudiante:input(\"Nombre del estudiante:\",)\n",
        "tareas =float(input(\"Tareas:\",))\n",
        "talleres=float(input(\"Talleres:\",))\n",
        "asistencia=float(input(\"Asistencia:\",))\n",
        "participacion=float(input(\"Participación:\",))\n",
        "\n",
        "nota1=tareas*0.1\n",
        "nota2=talleres*0.25\n",
        "nota3=asistencia*0.5\n",
        "nota4=participacion*0.15\n",
        "\n",
        "notap=nota1+nota2+nota3+nota4\n",
        "nota5=(3.7-notap)/0.45\n",
        "if nota5>=5.0:\n",
        "  print(\"saca menos de 3.7 en el curso\")\n",
        "else:\n",
        "  print(\"para sacar minimo 3.7 en el curso, el estudiante debe sacar en el proyecto como minimo\",round(nota5,2))\n",
        "\n"
      ],
      "execution_count": null,
      "outputs": []
    }
  ]
}