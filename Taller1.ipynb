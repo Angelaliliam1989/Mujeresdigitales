{
  "nbformat": 4,
  "nbformat_minor": 0,
  "metadata": {
    "colab": {
      "name": "Taller1.ipynb",
      "private_outputs": true,
      "provenance": [],
      "authorship_tag": "ABX9TyOw+JcAxyNhFAlLt+b4hnrL",
      "include_colab_link": true
    },
    "kernelspec": {
      "name": "python3",
      "display_name": "Python 3"
    },
    "language_info": {
      "name": "python"
    }
  },
  "cells": [
    {
      "cell_type": "markdown",
      "metadata": {
        "id": "view-in-github",
        "colab_type": "text"
      },
      "source": [
        "<a href=\"https://colab.research.google.com/github/Angelaliliam1989/Mujeresdigitales/blob/main/Taller1.ipynb\" target=\"_parent\"><img src=\"https://colab.research.google.com/assets/colab-badge.svg\" alt=\"Open In Colab\"/></a>"
      ]
    },
    {
      "cell_type": "code",
      "metadata": {
        "id": "-Z-o7LZ01g_Z"
      },
      "source": [
        "\n",
        "estudiante:input( \"Nombre del estudiante:\",)\n",
        "tareas = int(input(\"Tareas:\",)\n",
        "if tareas > 5:\n",
        "  print(\"no valido\")\n",
        "talleres=(input(\"Talleres:\",))\n",
        "asistencia=(input(\"Asistencia:\",))\n",
        "participacion:(input(\"Participación:\",))\n",
        "nota=(estudiante+tareas+talleres+asistencia+participacion)\n",
        "print(Nota)\n",
        "\n",
        "\n",
        "\n",
        "\n"
      ],
      "execution_count": null,
      "outputs": []
    }
  ]
}