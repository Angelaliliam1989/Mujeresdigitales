{
  "nbformat": 4,
  "nbformat_minor": 0,
  "metadata": {
    "colab": {
      "name": "clase8_taller2.ipynb",
      "private_outputs": true,
      "provenance": [],
      "authorship_tag": "ABX9TyPKUqa7l+R6kKNvxADNg2zW",
      "include_colab_link": true
    },
    "kernelspec": {
      "name": "python3",
      "display_name": "Python 3"
    },
    "language_info": {
      "name": "python"
    }
  },
  "cells": [
    {
      "cell_type": "markdown",
      "metadata": {
        "id": "view-in-github",
        "colab_type": "text"
      },
      "source": [
        "<a href=\"https://colab.research.google.com/github/Angelaliliam1989/Mujeresdigitales/blob/main/clase8_taller2.ipynb\" target=\"_parent\"><img src=\"https://colab.research.google.com/assets/colab-badge.svg\" alt=\"Open In Colab\"/></a>"
      ]
    },
    {
      "cell_type": "markdown",
      "metadata": {
        "id": "EuWXQ66D7xFv"
      },
      "source": [
        "**Ejemplo "
      ]
    },
    {
      "cell_type": "code",
      "metadata": {
        "id": "RUxWyN667bec"
      },
      "source": [
        ""
      ],
      "execution_count": null,
      "outputs": []
    }
  ]
}