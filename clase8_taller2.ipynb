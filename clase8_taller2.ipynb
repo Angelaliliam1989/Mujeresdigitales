{
  "nbformat": 4,
  "nbformat_minor": 0,
  "metadata": {
    "colab": {
      "name": "clase8_taller2.ipynb",
      "private_outputs": true,
      "provenance": [],
      "authorship_tag": "ABX9TyOml7jQm4Va75yOpyRsZ4rg",
      "include_colab_link": true
    },
    "kernelspec": {
      "name": "python3",
      "display_name": "Python 3"
    },
    "language_info": {
      "name": "python"
    }
  },
  "cells": [
    {
      "cell_type": "markdown",
      "metadata": {
        "id": "view-in-github",
        "colab_type": "text"
      },
      "source": [
        "<a href=\"https://colab.research.google.com/github/Angelaliliam1989/Mujeresdigitales/blob/main/clase8_taller2.ipynb\" target=\"_parent\"><img src=\"https://colab.research.google.com/assets/colab-badge.svg\" alt=\"Open In Colab\"/></a>"
      ]
    },
    {
      "cell_type": "markdown",
      "metadata": {
        "id": "EuWXQ66D7xFv"
      },
      "source": [
        " **Ejercicio de practica**\n",
        "\n",
        "---\n",
        "Se le pide al analista realizar una estimacion poblacional a partir de informacion descriptiva relevante sobre la poblacion de los paises en via de desarrollo.\n",
        "\n",
        "Para ello de inicio se solicita que se cree un programa que permita ingresar como prueba 5 paises y su  respectiva poblacion e identifica que pais tienen la mayor cantidad de habitantes.\n",
        "\n",
        "\n"
      ]
    },
    {
      "cell_type": "code",
      "metadata": {
        "id": "p2CI4wx_BCaU"
      },
      "source": [
        "def poblacion():\n",
        "  pais=[]\n",
        "  for x in range(2):\n",
        "    nombre=input(\"Ingrresa el nombre del pais:\")\n",
        "    cant=int(input(\"Ingrese la cantidad de habitantes\"))\n",
        "    pais.append((nombre,cant))\n",
        "  return pais\n",
        "\n",
        "def view(pais):\n",
        "  print(\"Paises por pais:\")\n",
        "  for x in range(len(pais)):\n",
        "    print(pais[x][0],pais[x][1])\n",
        "\n",
        "def mayor(pais):\n",
        "  p=0\n",
        "  for x in range(1,len(pais)):\n",
        "    if pais[x][1]>pais[p][1]:\n",
        "      pos=x\n",
        "    print(\"EL pais con la mas alta poblacion registrada es:\", pais[pos][0])\n",
        "\n",
        "\n",
        "\n",
        "pais=poblacion()\n",
        "view(pais)\n",
        "mayor(pais)\n"
      ],
      "execution_count": null,
      "outputs": []
    },
    {
      "cell_type": "markdown",
      "metadata": {
        "id": "mq1Z_KbMFJnS"
      },
      "source": [
        "**Taller 2**\n",
        "\n",
        "---\n",
        "Se solicita realizar un programa que permita identificar el nivel de cumplimiento del area de ventas de la empresa AVA. Entre los principales requerimientos se encuentran los siguientes:\n",
        "\n",
        "1. Permita ingresar la cantidad de vendedores del area de ventas\n",
        "2. Permita ingresar la puntuacion por cada uno de ellos(escala del 1 al 10)\n",
        "3. El programa debe permitir identificar el vendedor con peor rendimiento y mejor rendimiento.\n",
        "4. Obtener tambien el promedio genera del nivel de cuplimiento del area de ventas.\n",
        "\n",
        "Nota : Si hay empate en la puntuacion para definir el primer y ultimo puesto, se define por orden alfabetico.\n"
      ]
    },
    {
      "cell_type": "code",
      "metadata": {
        "id": "0rhfyy439Gk-"
      },
      "source": [
        "def cumplimiento():\n",
        "  vendedor=[]\n",
        "  for x in range(3):\n",
        "    nombre=input(\"Vendedor:\")\n",
        "    puntuacion= input(\"Puntuacion:\")\n",
        "    vendedor.append((nombre,puntuacion))\n",
        "  return vendedor\n",
        "\n",
        "def view(vendedor):\n",
        "  print(\"puntuacion  de vendedor:\")\n",
        "  for x in range(len(vendedor)):\n",
        "    print(vendedor[x][0],vendedor[x][1])\n",
        "\n",
        "def mayor(vendedor):\n",
        "  p=0\n",
        "  for x in range(1,len(vendedor)):\n",
        "    if vendedor[x][1]>vendedor[p][1]:\n",
        "      p=x\n",
        "  print(\"EL vendedor con la mas alta puntuacion registrada es:\",vendedor[p][0])\n",
        "\n",
        "def menor(vendedor):\n",
        "  p=0\n",
        "  for x in range(1,len(vendedor)):\n",
        "    if vendedor[x][1]<vendedor[p][1]:\n",
        "      p=x\n",
        "  print(\"EL vendedor con la mas baja puntuacion registrada es:\",vendedor[p][0])\n",
        "\n",
        "print(\"nivel de cumplimiento area de ventas\")\n",
        "\n",
        "def suma(vendedor):\n",
        "    laSuma = 0\n",
        "    for x in range(1,len(vendedor)):\n",
        "        laSuma = laSuma + x\n",
        "    print(f\"cantidad de vendedores es\",(laSuma))\n",
        "\n",
        "def y(vendedor):\n",
        "    puntuacion=()\n",
        "    for x in (1,len(vendedor)):\n",
        "        promedio = suma() / laSuma\n",
        "print(\"El promedio es\", promedio)\n",
        "\n",
        "\n",
        "vendedor=cumplimiento()\n",
        "view(vendedor)\n",
        "mayor(vendedor)\n",
        "menor(vendedor)\n",
        "suma(vendedor)\n",
        "y(vendedor)"
      ],
      "execution_count": null,
      "outputs": []
    }
  ]
}